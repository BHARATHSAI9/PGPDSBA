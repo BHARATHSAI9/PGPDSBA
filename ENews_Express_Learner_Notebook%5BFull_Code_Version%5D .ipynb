{
 "cells": [
  {
   "cell_type": "markdown",
   "id": "6yDxo9u0d9Na",
   "metadata": {
    "id": "6yDxo9u0d9Na"
   },
   "source": [
    "# Project Business Statistics: E-news Express\n",
    "\n",
    "**Marks: 60**"
   ]
  },
  {
   "cell_type": "markdown",
   "id": "SrLd-ICEmPSD",
   "metadata": {
    "id": "SrLd-ICEmPSD"
   },
   "source": [
    "## Define Problem Statement and Objectives"
   ]
  },
  {
   "cell_type": "markdown",
   "id": "9Vt1PLLqmXNn",
   "metadata": {
    "id": "9Vt1PLLqmXNn"
   },
   "source": [
    "E-news express wants to analyse whether the new landing page is effective enough to gather new subscribers or not. \n",
    "Key objectives of the analysis are as follows:\n",
    "1. To explore the dataset and extract insights\n",
    "2. Check whether the users spend more time on the new landing page when compared to the old page or not.\n",
    "3. Check the effectiveness of the new landing page in getting new subscribers.\n",
    "4. Check whether the converted status depend on the preferred language or not.\n",
    "5. What is the mean time spent on the new page for different language users."
   ]
  },
  {
   "cell_type": "markdown",
   "id": "a6a3d218",
   "metadata": {
    "id": "a6a3d218"
   },
   "source": [
    "## Import all the necessary libraries"
   ]
  },
  {
   "cell_type": "code",
   "execution_count": 1,
   "id": "658c5dec",
   "metadata": {
    "id": "658c5dec"
   },
   "outputs": [],
   "source": [
    "import numpy as np\n",
    "import pandas as pd\n",
    "from matplotlib import pyplot as plt\n",
    "import seaborn as sns"
   ]
  },
  {
   "cell_type": "markdown",
   "id": "9d75cfa2",
   "metadata": {
    "id": "9d75cfa2"
   },
   "source": [
    "## 1. Explore the dataset and extract insights using Exploratory Data Analysis. (10 Marks)"
   ]
  },
  {
   "cell_type": "markdown",
   "id": "27201534",
   "metadata": {
    "id": "27201534"
   },
   "source": [
    "### Exploratory Data Analysis - Step by step approach\n",
    "\n",
    "Typical Data exploration activity consists of the following steps:\n",
    "1.\tImporting Data\n",
    "2.\tVariable Identification\n",
    "3.  Variable Transformation/Feature Creation\n",
    "4.  Missing value detection\n",
    "5.\tUnivariate Analysis\n",
    "6.\tBivariate Analysis"
   ]
  },
  {
   "cell_type": "markdown",
   "id": "6970dd99",
   "metadata": {
    "id": "6970dd99"
   },
   "source": [
    "### Reading the Data into a DataFrame"
   ]
  },
  {
   "cell_type": "code",
   "execution_count": 2,
   "id": "d3b95640",
   "metadata": {
    "id": "d3b95640"
   },
   "outputs": [],
   "source": [
    "# write the code for reading the dataset abtest.csv\n",
    "data = pd.read_csv('abtest.csv')\n"
   ]
  },
  {
   "cell_type": "markdown",
   "id": "a4e471fd",
   "metadata": {
    "id": "a4e471fd"
   },
   "source": [
    "### Data Overview\n",
    "- View a few rows of the data frame.\n",
    "- Check the shape and data types of the data frame. Add observations.\n",
    "- Fix the data-types (if needed).\n",
    "- Missing Value Check.\n",
    "- Summary statistics from the data frame. Add observations."
   ]
  },
  {
   "cell_type": "code",
   "execution_count": 3,
   "id": "e1ad11d4",
   "metadata": {
    "id": "e1ad11d4"
   },
   "outputs": [
    {
     "data": {
      "text/html": [
       "<div>\n",
       "<style scoped>\n",
       "    .dataframe tbody tr th:only-of-type {\n",
       "        vertical-align: middle;\n",
       "    }\n",
       "\n",
       "    .dataframe tbody tr th {\n",
       "        vertical-align: top;\n",
       "    }\n",
       "\n",
       "    .dataframe thead th {\n",
       "        text-align: right;\n",
       "    }\n",
       "</style>\n",
       "<table border=\"1\" class=\"dataframe\">\n",
       "  <thead>\n",
       "    <tr style=\"text-align: right;\">\n",
       "      <th></th>\n",
       "      <th>user_id</th>\n",
       "      <th>group</th>\n",
       "      <th>landing_page</th>\n",
       "      <th>time_spent_on_the_page</th>\n",
       "      <th>converted</th>\n",
       "      <th>language_preferred</th>\n",
       "    </tr>\n",
       "  </thead>\n",
       "  <tbody>\n",
       "    <tr>\n",
       "      <th>0</th>\n",
       "      <td>546592</td>\n",
       "      <td>control</td>\n",
       "      <td>old</td>\n",
       "      <td>3.48</td>\n",
       "      <td>no</td>\n",
       "      <td>Spanish</td>\n",
       "    </tr>\n",
       "    <tr>\n",
       "      <th>1</th>\n",
       "      <td>546468</td>\n",
       "      <td>treatment</td>\n",
       "      <td>new</td>\n",
       "      <td>7.13</td>\n",
       "      <td>yes</td>\n",
       "      <td>English</td>\n",
       "    </tr>\n",
       "    <tr>\n",
       "      <th>2</th>\n",
       "      <td>546462</td>\n",
       "      <td>treatment</td>\n",
       "      <td>new</td>\n",
       "      <td>4.40</td>\n",
       "      <td>no</td>\n",
       "      <td>Spanish</td>\n",
       "    </tr>\n",
       "    <tr>\n",
       "      <th>3</th>\n",
       "      <td>546567</td>\n",
       "      <td>control</td>\n",
       "      <td>old</td>\n",
       "      <td>3.02</td>\n",
       "      <td>no</td>\n",
       "      <td>French</td>\n",
       "    </tr>\n",
       "    <tr>\n",
       "      <th>4</th>\n",
       "      <td>546459</td>\n",
       "      <td>treatment</td>\n",
       "      <td>new</td>\n",
       "      <td>4.75</td>\n",
       "      <td>yes</td>\n",
       "      <td>Spanish</td>\n",
       "    </tr>\n",
       "  </tbody>\n",
       "</table>\n",
       "</div>"
      ],
      "text/plain": [
       "   user_id      group landing_page  time_spent_on_the_page converted  \\\n",
       "0   546592    control          old                    3.48        no   \n",
       "1   546468  treatment          new                    7.13       yes   \n",
       "2   546462  treatment          new                    4.40        no   \n",
       "3   546567    control          old                    3.02        no   \n",
       "4   546459  treatment          new                    4.75       yes   \n",
       "\n",
       "  language_preferred  \n",
       "0            Spanish  \n",
       "1            English  \n",
       "2            Spanish  \n",
       "3             French  \n",
       "4            Spanish  "
      ]
     },
     "execution_count": 3,
     "metadata": {},
     "output_type": "execute_result"
    }
   ],
   "source": [
    "data.head() #print first 5 rows of the dataset"
   ]
  },
  {
   "cell_type": "code",
   "execution_count": 4,
   "id": "f077a97b",
   "metadata": {},
   "outputs": [
    {
     "data": {
      "text/plain": [
       "(100, 6)"
      ]
     },
     "execution_count": 4,
     "metadata": {},
     "output_type": "execute_result"
    }
   ],
   "source": [
    "data.shape  #print the shape of the dataset"
   ]
  },
  {
   "cell_type": "code",
   "execution_count": 5,
   "id": "50eb76d9",
   "metadata": {},
   "outputs": [
    {
     "data": {
      "text/plain": [
       "user_id                     int64\n",
       "group                      object\n",
       "landing_page               object\n",
       "time_spent_on_the_page    float64\n",
       "converted                  object\n",
       "language_preferred         object\n",
       "dtype: object"
      ]
     },
     "execution_count": 5,
     "metadata": {},
     "output_type": "execute_result"
    }
   ],
   "source": [
    "data.dtypes #get the datatypes of different columns"
   ]
  },
  {
   "cell_type": "code",
   "execution_count": 6,
   "id": "19943612",
   "metadata": {
    "scrolled": true
   },
   "outputs": [
    {
     "data": {
      "text/plain": [
       "user_id                   0\n",
       "group                     0\n",
       "landing_page              0\n",
       "time_spent_on_the_page    0\n",
       "converted                 0\n",
       "language_preferred        0\n",
       "dtype: int64"
      ]
     },
     "execution_count": 6,
     "metadata": {},
     "output_type": "execute_result"
    }
   ],
   "source": [
    "data.isnull().sum() #check null values in the dataset"
   ]
  },
  {
   "cell_type": "markdown",
   "id": "f85e5db6",
   "metadata": {},
   "source": [
    "# Observations\n",
    "The observations from the above operations are as follows:\n",
    "1. The dataset has 100 rows and 6 columns\n",
    "2. There are no null values in the dataset\n",
    "3. The data types the 6 columns is as follows:\n",
    "    a. Object: 4 columns\n",
    "    b. Int: 1 column\n",
    "    c. Float: 1 column"
   ]
  },
  {
   "cell_type": "markdown",
   "id": "68f3b2c9",
   "metadata": {
    "id": "68f3b2c9"
   },
   "source": [
    "### Univariate Analysis"
   ]
  },
  {
   "cell_type": "code",
   "execution_count": 7,
   "id": "1932d0f3",
   "metadata": {
    "id": "1932d0f3"
   },
   "outputs": [],
   "source": [
    "# function to plot a boxplot and a histogram along the same scale.\n",
    "\n",
    "\n",
    "def histogram_boxplot(data, feature, figsize=(12, 7), kde=False, bins=None):\n",
    "    \"\"\"\n",
    "    Boxplot and histogram combined\n",
    "\n",
    "    data: dataframe\n",
    "    feature: dataframe column\n",
    "    figsize: size of figure (default (12,7))\n",
    "    kde: whether to show the density curve (default False)\n",
    "    bins: number of bins for histogram (default None)\n",
    "    \"\"\"\n",
    "    f2, (ax_box2, ax_hist2) = plt.subplots(\n",
    "        nrows=2,  # Number of rows of the subplot grid= 2\n",
    "        sharex=True,  # x-axis will be shared among all subplots\n",
    "        gridspec_kw={\"height_ratios\": (0.25, 0.75)},\n",
    "        figsize=figsize,\n",
    "    )  # creating the 2 subplots\n",
    "    sns.boxplot(\n",
    "        data=data, x=feature, ax=ax_box2, showmeans=True, color=\"violet\"\n",
    "    )  # boxplot will be created and a star will indicate the mean value of the column\n",
    "    sns.histplot(\n",
    "        data=data, x=feature, kde=kde, ax=ax_hist2, bins=bins, palette=\"winter\"\n",
    "    ) if bins else sns.histplot(\n",
    "        data=data, x=feature, kde=kde, ax=ax_hist2\n",
    "    )  # For histogram\n",
    "    ax_hist2.axvline(\n",
    "        data[feature].mean(), color=\"green\", linestyle=\"--\"\n",
    "    )  # Add mean to the histogram\n",
    "    ax_hist2.axvline(\n",
    "        data[feature].median(), color=\"black\", linestyle=\"-\"\n",
    "    )  # Add median to the histogram"
   ]
  },
  {
   "cell_type": "code",
   "execution_count": 8,
   "id": "2fce6350",
   "metadata": {
    "id": "2fce6350"
   },
   "outputs": [],
   "source": [
    "# function to create labeled barplots\n",
    "\n",
    "\n",
    "def labeled_barplot(data, feature, perc=False, n=None):\n",
    "    \"\"\"\n",
    "    Barplot with percentage at the top\n",
    "\n",
    "    data: dataframe\n",
    "    feature: dataframe column\n",
    "    perc: whether to display percentages instead of count (default is False)\n",
    "    n: displays the top n category levels (default is None, i.e., display all levels)\n",
    "    \"\"\"\n",
    "\n",
    "    total = len(data[feature])  # length of the column\n",
    "    count = data[feature].nunique()\n",
    "    if n is None:\n",
    "        plt.figure(figsize=(count + 1, 5))\n",
    "    else:\n",
    "        plt.figure(figsize=(n + 1, 5))\n",
    "\n",
    "    plt.xticks(rotation=90, fontsize=15)\n",
    "    ax = sns.countplot(data=data, x=feature, palette=\"Paired\", order=data[feature].value_counts().index[:n].sort_values())\n",
    "\n",
    "    for p in ax.patches:\n",
    "        if perc == True:\n",
    "            label = \"{:.1f}%\".format(100 * p.get_height() / total)  # percentage of each class of the category\n",
    "        else:\n",
    "            label = p.get_height()  # count of each level of the category\n",
    "\n",
    "        x = p.get_x() + p.get_width() / 2  # width of the plot\n",
    "        y = p.get_height()      # height of the plot\n",
    "\n",
    "        ax.annotate(label, (x, y), ha=\"center\", va=\"center\", size=12, xytext=(0, 5), textcoords=\"offset points\")  # annotate the percentage\n",
    "\n",
    "    plt.show()  # show the plot"
   ]
  },
  {
   "cell_type": "code",
   "execution_count": 9,
   "id": "e6f99481",
   "metadata": {
    "id": "e6f99481"
   },
   "outputs": [
    {
     "data": {
      "image/png": "[encoded data removed]",
      "text/plain": [
       "<Figure size 864x504 with 2 Axes>"
      ]
     },
     "metadata": {
      "needs_background": "light"
     },
     "output_type": "display_data"
    }
   ],
   "source": [
    "histogram_boxplot(data=data, feature='time_spent_on_the_page', figsize=(12, 7), kde=False, bins=None)"
   ]
  },
  {
   "cell_type": "markdown",
   "id": "f007dc53",
   "metadata": {},
   "source": [
    "# Observations\n",
    "1. The time spent on the page is normally distributed.\n",
    "2. There are no outliers."
   ]
  },
  {
   "cell_type": "code",
   "execution_count": 10,
   "id": "204d865d",
   "metadata": {},
   "outputs": [
    {
     "data": {
      "image/png": "[encoded data removed]",
      "text/plain": [
       "<Figure size 216x360 with 1 Axes>"
      ]
     },
     "metadata": {
      "needs_background": "light"
     },
     "output_type": "display_data"
    }
   ],
   "source": [
    "labeled_barplot(data=data, feature='group', perc=False, n=None)"
   ]
  },
  {
   "cell_type": "code",
   "execution_count": 11,
   "id": "fdd8cbc2",
   "metadata": {},
   "outputs": [
    {
     "data": {
      "image/png": "[encoded data removed]",
      "text/plain": [
       "<Figure size 216x360 with 1 Axes>"
      ]
     },
     "metadata": {
      "needs_background": "light"
     },
     "output_type": "display_data"
    }
   ],
   "source": [
    "labeled_barplot(data=data, feature='landing_page', perc=False, n=None)"
   ]
  },
  {
   "cell_type": "markdown",
   "id": "80c8ce13",
   "metadata": {},
   "source": [
    "# Observations\n",
    "1. There are 50 observations each for the old & new page respectively."
   ]
  },
  {
   "cell_type": "code",
   "execution_count": 12,
   "id": "7100a7c8",
   "metadata": {},
   "outputs": [
    {
     "data": {
      "image/png": "[encoded data removed]",
      "text/plain": [
       "<Figure size 216x360 with 1 Axes>"
      ]
     },
     "metadata": {
      "needs_background": "light"
     },
     "output_type": "display_data"
    }
   ],
   "source": [
    "labeled_barplot(data=data, feature='converted', perc=False, n=None)"
   ]
  },
  {
   "cell_type": "markdown",
   "id": "8a9b5d7f",
   "metadata": {},
   "source": [
    "# Observations\n",
    "1. Combined conversions from the sample is 54%."
   ]
  },
  {
   "cell_type": "code",
   "execution_count": 13,
   "id": "eeccb9ff",
   "metadata": {},
   "outputs": [
    {
     "data": {
      "image/png": "[encoded data removed]",
      "text/plain": [
       "<Figure size 288x360 with 1 Axes>"
      ]
     },
     "metadata": {
      "needs_background": "light"
     },
     "output_type": "display_data"
    }
   ],
   "source": [
    "labeled_barplot(data=data, feature='language_preferred', perc=False, n=None)"
   ]
  },
  {
   "cell_type": "markdown",
   "id": "f4b58bb1",
   "metadata": {},
   "source": [
    "# Observations\n",
    "1. The users in the sample combined prefer three languages. The languages and the number are as follow:\n",
    "    1. English - 32 users\n",
    "    2. French - 34 users\n",
    "    3. Spanish - 34 users"
   ]
  },
  {
   "cell_type": "markdown",
   "id": "fad2de2f",
   "metadata": {
    "id": "fad2de2f"
   },
   "source": [
    "### Bivariate Analysis"
   ]
  },
  {
   "cell_type": "code",
   "execution_count": 14,
   "id": "58e9a1d0",
   "metadata": {
    "id": "58e9a1d0"
   },
   "outputs": [
    {
     "data": {
      "text/plain": [
       "user_id                     int64\n",
       "group                      object\n",
       "landing_page               object\n",
       "time_spent_on_the_page    float64\n",
       "converted                  object\n",
       "language_preferred         object\n",
       "dtype: object"
      ]
     },
     "execution_count": 14,
     "metadata": {},
     "output_type": "execute_result"
    }
   ],
   "source": [
    "data.dtypes"
   ]
  },
  {
   "cell_type": "code",
   "execution_count": 15,
   "id": "b86adf5b",
   "metadata": {},
   "outputs": [
    {
     "data": {
      "image/png": "[encoded data removed]",
      "text/plain": [
       "<Figure size 432x288 with 1 Axes>"
      ]
     },
     "metadata": {
      "needs_background": "light"
     },
     "output_type": "display_data"
    }
   ],
   "source": [
    "sns.boxplot(data = data, x = 'landing_page', y='time_spent_on_the_page');"
   ]
  },
  {
   "cell_type": "markdown",
   "id": "6eff1954",
   "metadata": {},
   "source": [
    "# Observations\n",
    "1. Average time spent on the new page is more.\n",
    "2. In general, users are more engaged on the new page.\n",
    "3. There are outliers for the new landing page"
   ]
  },
  {
   "cell_type": "code",
   "execution_count": 16,
   "id": "df0e57d9",
   "metadata": {},
   "outputs": [
    {
     "data": {
      "text/plain": [
       "<AxesSubplot:xlabel='landing_page', ylabel='count'>"
      ]
     },
     "execution_count": 16,
     "metadata": {},
     "output_type": "execute_result"
    },
    {
     "data": {
      "image/png": "[encoded data removed]",
      "text/plain": [
       "<Figure size 432x288 with 1 Axes>"
      ]
     },
     "metadata": {
      "needs_background": "light"
     },
     "output_type": "display_data"
    }
   ],
   "source": [
    "sns.countplot(data = data, x = 'landing_page', hue='converted')"
   ]
  },
  {
   "cell_type": "markdown",
   "id": "9082b715",
   "metadata": {},
   "source": [
    "# Observations\n",
    "1. Number of users converted through the new page is more compared to old page."
   ]
  },
  {
   "cell_type": "code",
   "execution_count": 17,
   "id": "4511595a",
   "metadata": {},
   "outputs": [
    {
     "data": {
      "text/plain": [
       "<AxesSubplot:xlabel='converted', ylabel='count'>"
      ]
     },
     "execution_count": 17,
     "metadata": {},
     "output_type": "execute_result"
    },
    {
     "data": {
      "image/png": "[encoded data removed]",
      "text/plain": [
       "<Figure size 432x288 with 1 Axes>"
      ]
     },
     "metadata": {
      "needs_background": "light"
     },
     "output_type": "display_data"
    }
   ],
   "source": [
    "sns.countplot(data = data, x = 'converted', hue='language_preferred')"
   ]
  },
  {
   "cell_type": "markdown",
   "id": "a6e0d12b",
   "metadata": {},
   "source": [
    "# Observations\n",
    "1. Most number of subscriptions are from users whose preferred language is English followed by spanish & french"
   ]
  },
  {
   "cell_type": "code",
   "execution_count": 18,
   "id": "44304938",
   "metadata": {},
   "outputs": [
    {
     "data": {
      "text/plain": [
       "<AxesSubplot:xlabel='language_preferred', ylabel='time_spent_on_the_page'>"
      ]
     },
     "execution_count": 18,
     "metadata": {},
     "output_type": "execute_result"
    },
    {
     "data": {
      "image/png": "[encoded data removed]",
      "text/plain": [
       "<Figure size 432x288 with 1 Axes>"
      ]
     },
     "metadata": {
      "needs_background": "light"
     },
     "output_type": "display_data"
    }
   ],
   "source": [
    "sns.barplot(data = data, y = 'time_spent_on_the_page', x='language_preferred')"
   ]
  },
  {
   "cell_type": "markdown",
   "id": "42302d79",
   "metadata": {},
   "source": [
    "# Observations\n",
    "1. Users with different preferred languages spent more time on the new landing page."
   ]
  },
  {
   "cell_type": "code",
   "execution_count": 19,
   "id": "b43bdd8c",
   "metadata": {},
   "outputs": [
    {
     "data": {
      "text/plain": [
       "<AxesSubplot:xlabel='converted', ylabel='time_spent_on_the_page'>"
      ]
     },
     "execution_count": 19,
     "metadata": {},
     "output_type": "execute_result"
    },
    {
     "data": {
      "image/png": "[encoded data removed]",
      "text/plain": [
       "<Figure size 432x288 with 1 Axes>"
      ]
     },
     "metadata": {
      "needs_background": "light"
     },
     "output_type": "display_data"
    }
   ],
   "source": [
    "sns.barplot(data = data, y = 'time_spent_on_the_page', x='converted')"
   ]
  },
  {
   "cell_type": "markdown",
   "id": "70b2331b",
   "metadata": {},
   "source": [
    "# Observations\n",
    "1. Time spent on the website is directly proportion to the conversions."
   ]
  },
  {
   "cell_type": "markdown",
   "id": "27906576",
   "metadata": {
    "id": "27906576"
   },
   "source": [
    "## 2. Do the users spend more time on the new landing page than the existing landing page? (10 Marks)"
   ]
  },
  {
   "cell_type": "markdown",
   "id": "e5fdf0c8",
   "metadata": {
    "id": "e5fdf0c8"
   },
   "source": [
    "### Perform Visual Analysis"
   ]
  },
  {
   "cell_type": "code",
   "execution_count": 20,
   "id": "6eZJa41eg21n",
   "metadata": {
    "id": "6eZJa41eg21n"
   },
   "outputs": [
    {
     "data": {
      "text/plain": [
       "<AxesSubplot:xlabel='landing_page', ylabel='time_spent_on_the_page'>"
      ]
     },
     "execution_count": 20,
     "metadata": {},
     "output_type": "execute_result"
    },
    {
     "data": {
      "image/png": "[encoded data removed]",
      "text/plain": [
       "<Figure size 432x288 with 1 Axes>"
      ]
     },
     "metadata": {
      "needs_background": "light"
     },
     "output_type": "display_data"
    }
   ],
   "source": [
    "sns.boxplot(data = data, y = 'time_spent_on_the_page', x='landing_page')"
   ]
  },
  {
   "cell_type": "markdown",
   "id": "892395c7",
   "metadata": {},
   "source": [
    "# Observations\n",
    "1. Average time spent on the new landing page is more compared to the old page."
   ]
  },
  {
   "cell_type": "code",
   "execution_count": 21,
   "id": "3c82bb0c",
   "metadata": {},
   "outputs": [],
   "source": [
    "df_old = data[data['landing_page']=='old'] # old page data\n",
    "df_old=df_old.reset_index(drop=True)\n",
    "df_new = data[data['landing_page']=='new'] # new page data\n",
    "df_new=df_new.reset_index(drop=True)"
   ]
  },
  {
   "cell_type": "code",
   "execution_count": 22,
   "id": "e9b66e7e",
   "metadata": {
    "scrolled": true
   },
   "outputs": [
    {
     "name": "stderr",
     "output_type": "stream",
     "text": [
      "/Users/saibharath/opt/anaconda3/lib/python3.8/site-packages/seaborn/distributions.py:2557: FutureWarning: `distplot` is a deprecated function and will be removed in a future version. Please adapt your code to use either `displot` (a figure-level function with similar flexibility) or `histplot` (an axes-level function for histograms).\n",
      "  warnings.warn(msg, FutureWarning)\n"
     ]
    },
    {
     "data": {
      "text/plain": [
       "<AxesSubplot:xlabel='time_spent_on_the_page', ylabel='Density'>"
      ]
     },
     "execution_count": 22,
     "metadata": {},
     "output_type": "execute_result"
    },
    {
     "data": {
      "image/png": "[encoded data removed]",
      "text/plain": [
       "<Figure size 432x288 with 1 Axes>"
      ]
     },
     "metadata": {
      "needs_background": "light"
     },
     "output_type": "display_data"
    }
   ],
   "source": [
    "sns.distplot(df_old['time_spent_on_the_page'])"
   ]
  },
  {
   "cell_type": "markdown",
   "id": "258f0104",
   "metadata": {},
   "source": [
    "# observation\n",
    "1. The time spent on the old landing page is normally distributed"
   ]
  },
  {
   "cell_type": "code",
   "execution_count": 23,
   "id": "0cf3c04a",
   "metadata": {},
   "outputs": [
    {
     "name": "stderr",
     "output_type": "stream",
     "text": [
      "/Users/saibharath/opt/anaconda3/lib/python3.8/site-packages/seaborn/distributions.py:2557: FutureWarning: `distplot` is a deprecated function and will be removed in a future version. Please adapt your code to use either `displot` (a figure-level function with similar flexibility) or `histplot` (an axes-level function for histograms).\n",
      "  warnings.warn(msg, FutureWarning)\n"
     ]
    },
    {
     "data": {
      "text/plain": [
       "<AxesSubplot:xlabel='time_spent_on_the_page', ylabel='Density'>"
      ]
     },
     "execution_count": 23,
     "metadata": {},
     "output_type": "execute_result"
    },
    {
     "data": {
      "image/png": "[encoded data removed]",
      "text/plain": [
       "<Figure size 432x288 with 1 Axes>"
      ]
     },
     "metadata": {
      "needs_background": "light"
     },
     "output_type": "display_data"
    }
   ],
   "source": [
    "sns.distplot(df_new['time_spent_on_the_page'])"
   ]
  },
  {
   "cell_type": "markdown",
   "id": "a8426eb2",
   "metadata": {},
   "source": [
    "# Observation\n",
    "1. Time spent by users on the new landing page is normally distributed."
   ]
  },
  {
   "cell_type": "markdown",
   "id": "56b3dafd",
   "metadata": {
    "id": "56b3dafd"
   },
   "source": [
    "### Step 1: Define the null and alternate hypotheses"
   ]
  },
  {
   "cell_type": "code",
   "execution_count": 24,
   "id": "ffbfee7f",
   "metadata": {},
   "outputs": [
    {
     "name": "stdout",
     "output_type": "stream",
     "text": [
      "mean time on old page is 4.53\n",
      "mean time on new page is 6.22\n"
     ]
    }
   ],
   "source": [
    "mean_old = round(np.mean(df_old['time_spent_on_the_page']),2)\n",
    "mean_new = round(np.mean(df_new['time_spent_on_the_page']),2)\n",
    "\n",
    "print('mean time on old page is',mean_old)\n",
    "print('mean time on new page is',mean_new)"
   ]
  },
  {
   "cell_type": "markdown",
   "id": "d2ac77ef",
   "metadata": {
    "id": "d2ac77ef"
   },
   "source": [
    "Null Hypothesis: mean time spent on the old page is equal to the mean time spent on the new page.\n",
    "Alternate Hypothesis: mean time spent on the old page is less than the mean time spent on the new page.\n",
    "\n",
    "Mean time on old page = 4.53\n",
    "Mean time on new page = 6.22"
   ]
  },
  {
   "cell_type": "markdown",
   "id": "c7ee4907",
   "metadata": {
    "id": "c7ee4907"
   },
   "source": [
    "### Step 2: Select Appropriate test"
   ]
  },
  {
   "cell_type": "markdown",
   "id": "2c183cd7",
   "metadata": {
    "id": "2c183cd7"
   },
   "source": [
    "Test selected: Two independent sample T-test for equality of means - Equal std. deviation.\n",
    "\n",
    "Reasons for selecting this test are as follows:\n",
    "1. The data is continuous > Time is measured on a continous scale.\n",
    "2. Normally distributed samples > concluded from the graphs above.\n",
    "3. Equal sample size > concluded from EDA.\n",
    "4. Random sampling from the population > mentioned in the problem statement.\n",
    "5. Independent samples > sample is from 100 independent users."
   ]
  },
  {
   "cell_type": "markdown",
   "id": "3f58c9a7",
   "metadata": {
    "id": "3f58c9a7"
   },
   "source": [
    "### Step 3: Decide the significance level"
   ]
  },
  {
   "cell_type": "markdown",
   "id": "92d7d7ee",
   "metadata": {
    "id": "92d7d7ee"
   },
   "source": [
    "Significance level of test is 0.05 (mentioned in the problem statement)"
   ]
  },
  {
   "cell_type": "markdown",
   "id": "5fed2eac",
   "metadata": {
    "id": "5fed2eac"
   },
   "source": [
    "### Step 4: Collect and prepare data"
   ]
  },
  {
   "cell_type": "code",
   "execution_count": 25,
   "id": "f5a59495",
   "metadata": {
    "id": "f5a59495"
   },
   "outputs": [
    {
     "name": "stdout",
     "output_type": "stream",
     "text": [
      "mean time spent on old page is 4.53\n",
      "mean time spent on new page is 6.22\n",
      "standard deviation on the time spent on old page is 2.58\n",
      "standard deviation on the time spent on new page is 1.82\n"
     ]
    }
   ],
   "source": [
    "mean_old = round(np.mean(df_old['time_spent_on_the_page']),2)\n",
    "mean_new = round(np.mean(df_new['time_spent_on_the_page']),2)\n",
    "std_old = round(df_old['time_spent_on_the_page'].std(),2)\n",
    "std_new = round(df_new['time_spent_on_the_page'].std(),2)\n",
    "\n",
    "print('mean time spent on old page is',mean_old)\n",
    "print('mean time spent on new page is',mean_new)\n",
    "print('standard deviation on the time spent on old page is',std_old)\n",
    "print('standard deviation on the time spent on new page is',std_new)"
   ]
  },
  {
   "cell_type": "markdown",
   "id": "f5c5258d",
   "metadata": {
    "id": "f5c5258d"
   },
   "source": [
    "### Step 5: Calculate the p-value"
   ]
  },
  {
   "cell_type": "code",
   "execution_count": 26,
   "id": "fac8594a",
   "metadata": {
    "id": "fac8594a"
   },
   "outputs": [
    {
     "name": "stdout",
     "output_type": "stream",
     "text": [
      "The P Value is 0.9998683876471904\n"
     ]
    }
   ],
   "source": [
    "from scipy.stats import ttest_ind\n",
    "\n",
    "test_stat, p_value = ttest_ind(df_old['time_spent_on_the_page'],df_new['time_spent_on_the_page'], equal_var=True,alternative='greater')\n",
    "print('The P Value is', p_value)\n"
   ]
  },
  {
   "cell_type": "markdown",
   "id": "359b12f8",
   "metadata": {
    "id": "359b12f8"
   },
   "source": [
    "### Step 6: Compare the p-value with $\\alpha$"
   ]
  },
  {
   "cell_type": "code",
   "execution_count": 27,
   "id": "7be47289",
   "metadata": {
    "id": "7be47289"
   },
   "outputs": [
    {
     "name": "stdout",
     "output_type": "stream",
     "text": [
      "The P Value is 0.9998683876471904\n",
      "The value of alpha is  -3.7867702694199856\n"
     ]
    }
   ],
   "source": [
    "print('The P Value is', p_value)\n",
    "print('The value of alpha is ',test_stat)"
   ]
  },
  {
   "cell_type": "markdown",
   "id": "d9affc84",
   "metadata": {
    "id": "d9affc84"
   },
   "source": [
    "### Step 7:  Draw inference"
   ]
  },
  {
   "cell_type": "markdown",
   "id": "6b16dd4b",
   "metadata": {
    "id": "6b16dd4b"
   },
   "source": [
    "# Inferences\n",
    "1. P value is much more than the significance value to not reject the null hypothesis.\n",
    "2. 99% of the values lies after the point -3.7868 (Alpha / test statistic)\n",
    "3. The time that the users spend on the old landing page is similar to the new landing page."
   ]
  },
  {
   "cell_type": "markdown",
   "id": "1ad0823a",
   "metadata": {
    "id": "1ad0823a"
   },
   "source": [
    "**A similar approach can be followed to answer the other questions.**"
   ]
  },
  {
   "cell_type": "markdown",
   "id": "353e9d24",
   "metadata": {
    "id": "353e9d24"
   },
   "source": [
    "## 3. Is the conversion rate (the proportion of users who visit the landing page and get converted) for the new page greater than the conversion rate for the old page? (10 Marks)"
   ]
  },
  {
   "cell_type": "code",
   "execution_count": 28,
   "id": "a206b967",
   "metadata": {},
   "outputs": [
    {
     "data": {
      "text/plain": [
       "<AxesSubplot:xlabel='landing_page', ylabel='count'>"
      ]
     },
     "execution_count": 28,
     "metadata": {},
     "output_type": "execute_result"
    },
    {
     "data": {
      "image/png": "[encoded data removed]",
      "text/plain": [
       "<Figure size 432x288 with 1 Axes>"
      ]
     },
     "metadata": {
      "needs_background": "light"
     },
     "output_type": "display_data"
    }
   ],
   "source": [
    "sns.countplot(data=data,x='landing_page',hue='converted')"
   ]
  },
  {
   "cell_type": "markdown",
   "id": "ddd46dfe",
   "metadata": {},
   "source": [
    "# Observations\n",
    "1. Proportion of the users converted is more in the new landing page than the old page."
   ]
  },
  {
   "cell_type": "markdown",
   "id": "fc37d18c",
   "metadata": {
    "id": "b7f52898"
   },
   "source": [
    "# Step 1: Define the alternate and null hypothesis"
   ]
  },
  {
   "cell_type": "markdown",
   "id": "5c90dae0",
   "metadata": {},
   "source": [
    "If P_old and P_new are two proportions of the users getting converted after using old and new page respevtively.\n",
    "The null hypthesis in this case would be P_old = P_new\n",
    "against the alternate hypothesis P_old < P_new"
   ]
  },
  {
   "cell_type": "markdown",
   "id": "d17cbe35",
   "metadata": {
    "id": "c7ee4907"
   },
   "source": [
    "### Step 2: Select Appropriate test"
   ]
  },
  {
   "cell_type": "markdown",
   "id": "00201375",
   "metadata": {
    "id": "2c183cd7"
   },
   "source": [
    "Test selected: Two proportions z-test\n",
    "\n",
    "Reasons for selecting this test are as follows:\n",
    "1. Binomially distributed samples.\n",
    "2. Normally distributed samples > np & n(1-p), both are greater than 10.\n",
    "3. Random sampling from the population > mentioned in the problem statement.\n",
    "4. Independent samples > sample is from 100 independent users."
   ]
  },
  {
   "cell_type": "markdown",
   "id": "24304b91",
   "metadata": {
    "id": "3f58c9a7"
   },
   "source": [
    "### Step 3: Decide the significance level"
   ]
  },
  {
   "cell_type": "markdown",
   "id": "a2fcb30c",
   "metadata": {
    "id": "92d7d7ee"
   },
   "source": [
    "Significance level of test is 0.05 (mentioned in the problem statement)"
   ]
  },
  {
   "cell_type": "markdown",
   "id": "9eb7f7e7",
   "metadata": {
    "id": "5fed2eac"
   },
   "source": [
    "### Step 4: Collect and prepare data"
   ]
  },
  {
   "cell_type": "code",
   "execution_count": 29,
   "id": "d4030247",
   "metadata": {
    "id": "f5a59495"
   },
   "outputs": [
    {
     "name": "stdout",
     "output_type": "stream",
     "text": [
      "total conversions from old landing page are 21\n",
      "total conversions from new landing page are 33\n"
     ]
    }
   ],
   "source": [
    "n_old = 50\n",
    "temp_old = df_old[df_old['converted']=='yes']\n",
    "conv_old = temp_old['converted'].count()  # number of conversions from old landing page\n",
    "n_new = 50\n",
    "temp_new = df_new[df_new['converted']=='yes']\n",
    "conv_new = temp_new['converted'].count()  # number of conversions from new landing page\n",
    "\n",
    "print('total conversions from old landing page are',conv_old)\n",
    "print('total conversions from new landing page are',conv_new)\n"
   ]
  },
  {
   "cell_type": "markdown",
   "id": "6604084b",
   "metadata": {
    "id": "f5c5258d"
   },
   "source": [
    "### Step 5: Calculate the p-value"
   ]
  },
  {
   "cell_type": "code",
   "execution_count": 30,
   "id": "66484dc1",
   "metadata": {
    "id": "fac8594a"
   },
   "outputs": [
    {
     "name": "stdout",
     "output_type": "stream",
     "text": [
      "the P value is 0.016052616408112556\n"
     ]
    }
   ],
   "source": [
    "from statsmodels.stats.proportion import proportions_ztest\n",
    "\n",
    "conv_count = np.array([21,33])\n",
    "\n",
    "nr_obs = np.array([50,50])\n",
    "\n",
    "test_stat, p_value = proportions_ztest(conv_count,nr_obs)\n",
    "print('the P value is', p_value)"
   ]
  },
  {
   "cell_type": "markdown",
   "id": "c035cade",
   "metadata": {
    "id": "d9affc84"
   },
   "source": [
    "### Step 6:  Draw inference"
   ]
  },
  {
   "cell_type": "markdown",
   "id": "301c477f",
   "metadata": {
    "id": "6b16dd4b"
   },
   "source": [
    "# Inferences\n",
    "1. P value is less than the significance level. Hence, we can reject the null hypothesis.\n",
    "2. The user conversion is more with in the users using the new landing page compared to the old page."
   ]
  },
  {
   "cell_type": "code",
   "execution_count": 31,
   "id": "aa81ee8b",
   "metadata": {},
   "outputs": [
    {
     "data": {
      "text/html": [
       "<div>\n",
       "<style scoped>\n",
       "    .dataframe tbody tr th:only-of-type {\n",
       "        vertical-align: middle;\n",
       "    }\n",
       "\n",
       "    .dataframe tbody tr th {\n",
       "        vertical-align: top;\n",
       "    }\n",
       "\n",
       "    .dataframe thead th {\n",
       "        text-align: right;\n",
       "    }\n",
       "</style>\n",
       "<table border=\"1\" class=\"dataframe\">\n",
       "  <thead>\n",
       "    <tr style=\"text-align: right;\">\n",
       "      <th></th>\n",
       "      <th>user_id</th>\n",
       "      <th>group</th>\n",
       "      <th>landing_page</th>\n",
       "      <th>time_spent_on_the_page</th>\n",
       "      <th>converted</th>\n",
       "      <th>language_preferred</th>\n",
       "    </tr>\n",
       "  </thead>\n",
       "  <tbody>\n",
       "    <tr>\n",
       "      <th>0</th>\n",
       "      <td>546592</td>\n",
       "      <td>control</td>\n",
       "      <td>old</td>\n",
       "      <td>3.48</td>\n",
       "      <td>no</td>\n",
       "      <td>Spanish</td>\n",
       "    </tr>\n",
       "    <tr>\n",
       "      <th>1</th>\n",
       "      <td>546468</td>\n",
       "      <td>treatment</td>\n",
       "      <td>new</td>\n",
       "      <td>7.13</td>\n",
       "      <td>yes</td>\n",
       "      <td>English</td>\n",
       "    </tr>\n",
       "    <tr>\n",
       "      <th>2</th>\n",
       "      <td>546462</td>\n",
       "      <td>treatment</td>\n",
       "      <td>new</td>\n",
       "      <td>4.40</td>\n",
       "      <td>no</td>\n",
       "      <td>Spanish</td>\n",
       "    </tr>\n",
       "    <tr>\n",
       "      <th>3</th>\n",
       "      <td>546567</td>\n",
       "      <td>control</td>\n",
       "      <td>old</td>\n",
       "      <td>3.02</td>\n",
       "      <td>no</td>\n",
       "      <td>French</td>\n",
       "    </tr>\n",
       "    <tr>\n",
       "      <th>4</th>\n",
       "      <td>546459</td>\n",
       "      <td>treatment</td>\n",
       "      <td>new</td>\n",
       "      <td>4.75</td>\n",
       "      <td>yes</td>\n",
       "      <td>Spanish</td>\n",
       "    </tr>\n",
       "  </tbody>\n",
       "</table>\n",
       "</div>"
      ],
      "text/plain": [
       "   user_id      group landing_page  time_spent_on_the_page converted  \\\n",
       "0   546592    control          old                    3.48        no   \n",
       "1   546468  treatment          new                    7.13       yes   \n",
       "2   546462  treatment          new                    4.40        no   \n",
       "3   546567    control          old                    3.02        no   \n",
       "4   546459  treatment          new                    4.75       yes   \n",
       "\n",
       "  language_preferred  \n",
       "0            Spanish  \n",
       "1            English  \n",
       "2            Spanish  \n",
       "3             French  \n",
       "4            Spanish  "
      ]
     },
     "execution_count": 31,
     "metadata": {},
     "output_type": "execute_result"
    }
   ],
   "source": [
    "data.head()"
   ]
  },
  {
   "cell_type": "markdown",
   "id": "d49bfa2d",
   "metadata": {
    "id": "d49bfa2d"
   },
   "source": [
    "## 4. Is the conversion and preferred language are independent or related? (10 Marks)"
   ]
  },
  {
   "cell_type": "code",
   "execution_count": 32,
   "id": "b0e63f17",
   "metadata": {
    "id": "b0e63f17"
   },
   "outputs": [
    {
     "data": {
      "text/plain": [
       "<AxesSubplot:xlabel='language_preferred', ylabel='count'>"
      ]
     },
     "execution_count": 32,
     "metadata": {},
     "output_type": "execute_result"
    },
    {
     "data": {
      "image/png": "[encoded data removed]",
      "text/plain": [
       "<Figure size 432x288 with 1 Axes>"
      ]
     },
     "metadata": {
      "needs_background": "light"
     },
     "output_type": "display_data"
    }
   ],
   "source": [
    "sns.countplot(data=data,x='language_preferred',hue='converted')"
   ]
  },
  {
   "cell_type": "markdown",
   "id": "d2fe08a8",
   "metadata": {
    "id": "b7f52898"
   },
   "source": [
    "# Step 1: Define the alternate and null hypothesis"
   ]
  },
  {
   "cell_type": "markdown",
   "id": "2cc3424a",
   "metadata": {},
   "source": [
    "Null hypthesis: The conversion is independent of preferred language\n",
    "Alternate hypothesis: The conversion is dependent on preferred languages"
   ]
  },
  {
   "cell_type": "markdown",
   "id": "42e88144",
   "metadata": {
    "id": "c7ee4907"
   },
   "source": [
    "### Step 2: Select Appropriate test"
   ]
  },
  {
   "cell_type": "markdown",
   "id": "45c05044",
   "metadata": {
    "id": "2c183cd7"
   },
   "source": [
    "Test selected: Chi-square test for independence\n",
    "\n",
    "Reasons for selecting this test are as follows:\n",
    "1. Categorical variables > yes.\n",
    "2. Random sampling from the population > mentioned in the problem statement.\n",
    "3. Expected number of samples is always more than 5 at each level > from the graph."
   ]
  },
  {
   "cell_type": "markdown",
   "id": "036929c5",
   "metadata": {
    "id": "3f58c9a7"
   },
   "source": [
    "### Step 3: Decide the significance level"
   ]
  },
  {
   "cell_type": "markdown",
   "id": "8ef126d6",
   "metadata": {
    "id": "92d7d7ee"
   },
   "source": [
    "Significance level of test is 0.05 (mentioned in the problem statement)"
   ]
  },
  {
   "cell_type": "markdown",
   "id": "0d5cdcfb",
   "metadata": {
    "id": "5fed2eac"
   },
   "source": [
    "### Step 4: Collect and prepare data"
   ]
  },
  {
   "cell_type": "code",
   "execution_count": 33,
   "id": "9f8d7e3f",
   "metadata": {
    "id": "f5a59495"
   },
   "outputs": [
    {
     "name": "stdout",
     "output_type": "stream",
     "text": [
      "Conversions for users preferring Spanish language_preferred  converted\n",
      "Spanish             yes          18\n",
      "                    no           16\n",
      "dtype: int64\n",
      "Conversions for users preferring French language_preferred  converted\n",
      "French              no           19\n",
      "                    yes          15\n",
      "dtype: int64\n",
      "Conversions for users preferring English language_preferred  converted\n",
      "English             yes          21\n",
      "                    no           11\n",
      "dtype: int64\n"
     ]
    }
   ],
   "source": [
    "data1 = data[['language_preferred','converted']]\n",
    "Spa = data1[data1['language_preferred']=='Spanish'].value_counts()\n",
    "Fre = data1[data1['language_preferred']=='French'].value_counts()\n",
    "Eng = data1[data1['language_preferred']=='English'].value_counts()\n",
    "print('Conversions for users preferring Spanish', Spa)\n",
    "print('Conversions for users preferring French', Fre)\n",
    "print('Conversions for users preferring English', Eng)\n"
   ]
  },
  {
   "cell_type": "code",
   "execution_count": 34,
   "id": "440207e3",
   "metadata": {},
   "outputs": [
    {
     "data": {
      "text/html": [
       "<div>\n",
       "<style scoped>\n",
       "    .dataframe tbody tr th:only-of-type {\n",
       "        vertical-align: middle;\n",
       "    }\n",
       "\n",
       "    .dataframe tbody tr th {\n",
       "        vertical-align: top;\n",
       "    }\n",
       "\n",
       "    .dataframe thead th {\n",
       "        text-align: right;\n",
       "    }\n",
       "</style>\n",
       "<table border=\"1\" class=\"dataframe\">\n",
       "  <thead>\n",
       "    <tr style=\"text-align: right;\">\n",
       "      <th></th>\n",
       "      <th>Yes</th>\n",
       "      <th>No</th>\n",
       "    </tr>\n",
       "  </thead>\n",
       "  <tbody>\n",
       "    <tr>\n",
       "      <th>Spanish</th>\n",
       "      <td>18</td>\n",
       "      <td>16</td>\n",
       "    </tr>\n",
       "    <tr>\n",
       "      <th>French</th>\n",
       "      <td>19</td>\n",
       "      <td>15</td>\n",
       "    </tr>\n",
       "    <tr>\n",
       "      <th>English</th>\n",
       "      <td>21</td>\n",
       "      <td>11</td>\n",
       "    </tr>\n",
       "  </tbody>\n",
       "</table>\n",
       "</div>"
      ],
      "text/plain": [
       "         Yes  No\n",
       "Spanish   18  16\n",
       "French    19  15\n",
       "English   21  11"
      ]
     },
     "execution_count": 34,
     "metadata": {},
     "output_type": "execute_result"
    }
   ],
   "source": [
    "dataF = {\n",
    "    'Yes': [18,19,21],\n",
    "      'No': [16,15,11]}\n",
    "df = pd.DataFrame(dataF,index=['Spanish','French','English'])\n",
    "df"
   ]
  },
  {
   "cell_type": "markdown",
   "id": "c998c750",
   "metadata": {
    "id": "f5c5258d"
   },
   "source": [
    "### Step 5: Calculate the p-value"
   ]
  },
  {
   "cell_type": "code",
   "execution_count": 35,
   "id": "fca43f92",
   "metadata": {},
   "outputs": [
    {
     "data": {
      "text/plain": [
       "0.5533487201615206"
      ]
     },
     "execution_count": 35,
     "metadata": {},
     "output_type": "execute_result"
    }
   ],
   "source": [
    "from scipy.stats import chi2_contingency\n",
    "\n",
    "chi, p_value, dof, expected = chi2_contingency(df)\n",
    "p_value"
   ]
  },
  {
   "cell_type": "markdown",
   "id": "13be965d",
   "metadata": {
    "id": "d9affc84"
   },
   "source": [
    "### Step 6:  Draw inference"
   ]
  },
  {
   "cell_type": "markdown",
   "id": "cc66e817",
   "metadata": {
    "id": "6b16dd4b"
   },
   "source": [
    "# Inferences\n",
    "1. P value is much more than the significance level. Hence, we cannot reject the null hypothesis.\n",
    "2. The user conversion is independent of the preferred language."
   ]
  },
  {
   "cell_type": "markdown",
   "id": "8d585a90",
   "metadata": {
    "id": "8d585a90"
   },
   "source": [
    "## 5. Is the time spent on the new page same for the different language users? (10 Marks)"
   ]
  },
  {
   "cell_type": "code",
   "execution_count": 36,
   "id": "b422f395",
   "metadata": {
    "id": "b422f395"
   },
   "outputs": [
    {
     "data": {
      "text/plain": [
       "<AxesSubplot:xlabel='language_preferred', ylabel='time_spent_on_the_page'>"
      ]
     },
     "execution_count": 36,
     "metadata": {},
     "output_type": "execute_result"
    },
    {
     "data": {
      "image/png": "[encoded data removed]",
      "text/plain": [
       "<Figure size 432x288 with 1 Axes>"
      ]
     },
     "metadata": {
      "needs_background": "light"
     },
     "output_type": "display_data"
    }
   ],
   "source": [
    "sns.boxplot(data=df_new,x='language_preferred',y='time_spent_on_the_page')"
   ]
  },
  {
   "cell_type": "markdown",
   "id": "4fe347a6",
   "metadata": {},
   "source": [
    "# Observation\n",
    "1. Users who prefer English spent a bit more time on the new landing page.\n",
    "2. For the the users preferring Spanish & French, there are outliers in data.\n",
    "3. Variations is low."
   ]
  },
  {
   "cell_type": "markdown",
   "id": "befdb6c9",
   "metadata": {
    "id": "b7f52898"
   },
   "source": [
    "# Step 1: Define the alternate and null hypothesis"
   ]
  },
  {
   "cell_type": "markdown",
   "id": "9def366d",
   "metadata": {},
   "source": [
    "Null hypthesis: The average time spent by all the different language users is same\n",
    "\n",
    "Alternate hypothesis: Time spent by at least one preferred language speaker is different from the remaining."
   ]
  },
  {
   "cell_type": "markdown",
   "id": "649c6e13",
   "metadata": {
    "id": "c7ee4907"
   },
   "source": [
    "### Step 2: Select Appropriate test"
   ]
  },
  {
   "cell_type": "markdown",
   "id": "b25cf565",
   "metadata": {
    "id": "2c183cd7"
   },
   "source": [
    "Test selected: One-way ANOVA F-Test\n",
    "\n",
    "Reasons for selecting this test are as follows:\n",
    "1. Sample variances are low >> from the box-plot above.\n",
    "2. The samples are normally distributed >> from previous graphs.\n",
    "3. The samples taken are the independent simple random samples >> from the problem statement."
   ]
  },
  {
   "cell_type": "markdown",
   "id": "6eef26b4",
   "metadata": {
    "id": "3f58c9a7"
   },
   "source": [
    "### Step 3: Decide the significance level"
   ]
  },
  {
   "cell_type": "markdown",
   "id": "2f542a74",
   "metadata": {
    "id": "92d7d7ee"
   },
   "source": [
    "Significance level of test is 0.05 (mentioned in the problem statement)"
   ]
  },
  {
   "cell_type": "markdown",
   "id": "6f2a1e10",
   "metadata": {
    "id": "5fed2eac"
   },
   "source": [
    "### Step 4: Collect and prepare data"
   ]
  },
  {
   "cell_type": "code",
   "execution_count": 37,
   "id": "071d07bb",
   "metadata": {},
   "outputs": [
    {
     "data": {
      "text/plain": [
       "Spanish    17\n",
       "French     17\n",
       "English    16\n",
       "Name: language_preferred, dtype: int64"
      ]
     },
     "execution_count": 37,
     "metadata": {},
     "output_type": "execute_result"
    }
   ],
   "source": [
    "df_new['language_preferred'].value_counts()"
   ]
  },
  {
   "cell_type": "code",
   "execution_count": 38,
   "id": "e6f8d201",
   "metadata": {},
   "outputs": [
    {
     "name": "stdout",
     "output_type": "stream",
     "text": [
      "language_preferred\n",
      "English    6.663750\n",
      "French     6.196471\n",
      "Spanish    5.835294\n",
      "Name: time_spent_on_the_page, dtype: float64\n"
     ]
    }
   ],
   "source": [
    "print(df_new.groupby('language_preferred')['time_spent_on_the_page'].mean())"
   ]
  },
  {
   "cell_type": "markdown",
   "id": "c19494cb",
   "metadata": {
    "id": "f5c5258d"
   },
   "source": [
    "### Step 5: Calculate the p-value"
   ]
  },
  {
   "cell_type": "code",
   "execution_count": 39,
   "id": "7352340e",
   "metadata": {},
   "outputs": [
    {
     "name": "stdout",
     "output_type": "stream",
     "text": [
      "The P value is 0.8040016293525696\n"
     ]
    }
   ],
   "source": [
    "from scipy import stats\n",
    "\n",
    "w, p_value = stats.shapiro(df_new['time_spent_on_the_page'])\n",
    "print('The P value is', p_value)"
   ]
  },
  {
   "cell_type": "markdown",
   "id": "fec60e6f",
   "metadata": {
    "id": "d9affc84"
   },
   "source": [
    "### Step 6:  Draw inference"
   ]
  },
  {
   "cell_type": "markdown",
   "id": "fdd65575",
   "metadata": {
    "id": "6b16dd4b"
   },
   "source": [
    "# Inferences\n",
    "1. P value is much more than the significance level. Hence, we cannot reject the null hypothesis.\n",
    "2. The time spent on the new page by the users preferring different languages is same."
   ]
  },
  {
   "cell_type": "markdown",
   "id": "3acbc947",
   "metadata": {
    "id": "3acbc947"
   },
   "source": [
    "## Conclusion and Business Recommendations"
   ]
  },
  {
   "cell_type": "markdown",
   "id": "21fb1063",
   "metadata": {
    "id": "21fb1063"
   },
   "source": [
    "# Conclusions\n",
    "1. On an average, users spend more time on the new landing page than the old landing page.\n",
    "2. Conversion rate of the old landing page is 0.42 and the conversion rate of new landing page is 0.66.\n",
    "3. Conversion rate doesn't depend on the preferred language.\n",
    "4. Mean time spent on a new page is same for all the different users\n",
    "\n",
    "# Business Recommendation\n",
    "1. New landing page is much more effective to gather new subscribers. We can already start migrating to the new landing page.\n",
    "2. Time spent on the landing page by the users who prefer spanish is low. Root cause analysis is needed here.\n",
    "3. Though the conversion rate doesn't depend on the language. We can look at the reason why the conversion rate of the users preferring French is not more."
   ]
  }
 ],
 "metadata": {
  "colab": {
   "collapsed_sections": [],
   "name": "ENews_Express_Learner_Notebook[Full Code Version].ipynb",
   "provenance": []
  },
  "kernelspec": {
   "display_name": "Python 3",
   "language": "python",
   "name": "python3"
  },
  "language_info": {
   "codemirror_mode": {
    "name": "ipython",
    "version": 3
   },
   "file_extension": ".py",
   "mimetype": "text/x-python",
   "name": "python",
   "nbconvert_exporter": "python",
   "pygments_lexer": "ipython3",
   "version": "3.8.8"
  }
 },
 "nbformat": 4,
 "nbformat_minor": 5
}
