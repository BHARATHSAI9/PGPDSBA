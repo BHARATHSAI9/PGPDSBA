{
 "cells": [
  {
   "cell_type": "markdown",
   "metadata": {
    "id": "6OLzY3s37HLf"
   },
   "source": [
    "-----\n",
    "# **Context**\n",
    "-----\n",
    "\n",
    "**WOW Superstore** sells different products like office supplies, furniture and appliances. For each order that is placed, the superstore keeps a record of various attributes related to the product, like state, city, category, subcategory and quantity.\n",
    "\n",
    "**Each row of the data corresponds to a unique order placed.** The detailed description of the attributes recorded are given below:\n",
    "\n",
    "-----\n",
    "## **Data Description**\n",
    "-----\n",
    "\n",
    "1. **Order ID:** Unique ID for an order\n",
    "2. **Ship Mode:** Mode of shipping used for shipment delivery\n",
    "3. **Segment:** Customer segment product was shipped to\n",
    "4. **City:** City in which shipment was delivered\n",
    "5. **State:** State in which the shipment was delivered\n",
    "6. **Region:** State region\n",
    "7. **Category:** The category product belongs to\n",
    "8. **Sub-Category:** Sub-category of the product\n",
    "9. **Sales:** Sale made in USD\n",
    "10. **Quantity:** Product quantity\n",
    "11. **Discount:** Discount given on the product\n",
    "12. **Profit:** Profit/loss made on the sale"
   ]
  },
  {
   "cell_type": "markdown",
   "metadata": {
    "id": "vUIAUfKs7HLi"
   },
   "source": [
    "### **We will first import the Python libraries needed for our analysis**"
   ]
  },
  {
   "cell_type": "code",
   "execution_count": 2,
   "metadata": {
    "id": "ARUZUQIC7HLi"
   },
   "outputs": [],
   "source": [
    "# Load the Pandas library with alias 'pd' - to import and analyze tabular data\n",
    "import pandas as pd\n",
    "\n",
    "# Load the Seaborn library with alias 'sns' -to create visualizations\n",
    "import seaborn as sns"
   ]
  },
  {
   "cell_type": "markdown",
   "metadata": {
    "id": "bPIjx8fD7HLk"
   },
   "source": [
    "### **Let's load the data into a pandas dataframe for analysis**"
   ]
  },
  {
   "cell_type": "markdown",
   "metadata": {
    "id": "-O-qbQ5X83Vd"
   },
   "source": [
    "When you specify a filename to *pandas.read_csv()*, Python will look in your current working directory. Your working directory is typically the directory that you started your Python process or Jupyter notebook from."
   ]
  },
  {
   "cell_type": "code",
   "execution_count": 3,
   "metadata": {
    "id": "V1zaExil7HLk"
   },
   "outputs": [],
   "source": [
    "# Read data from file 'WOW Superstore.csv' \n",
    "# (in the same directory that your python process is based)\n",
    "\n",
    "data = pd.read_csv(\"WOWSuperstore.csv\")"
   ]
  },
  {
   "cell_type": "markdown",
   "metadata": {
    "id": "CGsPsU837HLk"
   },
   "source": [
    "### **Before we begin our analysis, let's take a quick look at our data to get a feel for it**"
   ]
  },
  {
   "cell_type": "markdown",
   "metadata": {
    "id": "bD4Knvbo7HLl"
   },
   "source": [
    "* We can check the first 5 rows of the data using the *head()* function."
   ]
  },
  {
   "cell_type": "code",
   "execution_count": 4,
   "metadata": {
    "id": "GZgpQl7j7HLl",
    "outputId": "44ba00a9-8ef0-4b8e-aff6-38c45be95913"
   },
   "outputs": [
    {
     "data": {
      "text/html": [
       "<div>\n",
       "<style scoped>\n",
       "    .dataframe tbody tr th:only-of-type {\n",
       "        vertical-align: middle;\n",
       "    }\n",
       "\n",
       "    .dataframe tbody tr th {\n",
       "        vertical-align: top;\n",
       "    }\n",
       "\n",
       "    .dataframe thead th {\n",
       "        text-align: right;\n",
       "    }\n",
       "</style>\n",
       "<table border=\"1\" class=\"dataframe\">\n",
       "  <thead>\n",
       "    <tr style=\"text-align: right;\">\n",
       "      <th></th>\n",
       "      <th>Order ID</th>\n",
       "      <th>Ship Mode</th>\n",
       "      <th>Segment</th>\n",
       "      <th>City</th>\n",
       "      <th>State</th>\n",
       "      <th>Region</th>\n",
       "      <th>Category</th>\n",
       "      <th>Sub-Category</th>\n",
       "      <th>Sales</th>\n",
       "      <th>Quantity</th>\n",
       "      <th>Discount</th>\n",
       "      <th>Profit</th>\n",
       "    </tr>\n",
       "  </thead>\n",
       "  <tbody>\n",
       "    <tr>\n",
       "      <th>0</th>\n",
       "      <td>WOWID0001</td>\n",
       "      <td>Standard Class</td>\n",
       "      <td>Consumer</td>\n",
       "      <td>Seattle</td>\n",
       "      <td>Washington</td>\n",
       "      <td>West</td>\n",
       "      <td>Office Supplies</td>\n",
       "      <td>Binders</td>\n",
       "      <td>407.976</td>\n",
       "      <td>3</td>\n",
       "      <td>0.2</td>\n",
       "      <td>132.5922</td>\n",
       "    </tr>\n",
       "    <tr>\n",
       "      <th>1</th>\n",
       "      <td>WOWID0002</td>\n",
       "      <td>Standard Class</td>\n",
       "      <td>Home Office</td>\n",
       "      <td>Fort Worth</td>\n",
       "      <td>Texas</td>\n",
       "      <td>Central</td>\n",
       "      <td>Office Supplies</td>\n",
       "      <td>Appliances</td>\n",
       "      <td>68.810</td>\n",
       "      <td>5</td>\n",
       "      <td>0.8</td>\n",
       "      <td>-123.8580</td>\n",
       "    </tr>\n",
       "    <tr>\n",
       "      <th>2</th>\n",
       "      <td>WOWID0003</td>\n",
       "      <td>Standard Class</td>\n",
       "      <td>Home Office</td>\n",
       "      <td>Fort Worth</td>\n",
       "      <td>Texas</td>\n",
       "      <td>Central</td>\n",
       "      <td>Office Supplies</td>\n",
       "      <td>Binders</td>\n",
       "      <td>2.544</td>\n",
       "      <td>3</td>\n",
       "      <td>0.8</td>\n",
       "      <td>-3.8160</td>\n",
       "    </tr>\n",
       "    <tr>\n",
       "      <th>3</th>\n",
       "      <td>WOWID0004</td>\n",
       "      <td>Standard Class</td>\n",
       "      <td>Consumer</td>\n",
       "      <td>Philadelphia</td>\n",
       "      <td>Pennsylvania</td>\n",
       "      <td>East</td>\n",
       "      <td>Furniture</td>\n",
       "      <td>Bookcases</td>\n",
       "      <td>3083.430</td>\n",
       "      <td>7</td>\n",
       "      <td>0.5</td>\n",
       "      <td>-1665.0522</td>\n",
       "    </tr>\n",
       "    <tr>\n",
       "      <th>4</th>\n",
       "      <td>WOWID0005</td>\n",
       "      <td>Standard Class</td>\n",
       "      <td>Consumer</td>\n",
       "      <td>Philadelphia</td>\n",
       "      <td>Pennsylvania</td>\n",
       "      <td>East</td>\n",
       "      <td>Office Supplies</td>\n",
       "      <td>Binders</td>\n",
       "      <td>9.618</td>\n",
       "      <td>2</td>\n",
       "      <td>0.7</td>\n",
       "      <td>-7.0532</td>\n",
       "    </tr>\n",
       "  </tbody>\n",
       "</table>\n",
       "</div>"
      ],
      "text/plain": [
       "    Order ID       Ship Mode      Segment          City         State  \\\n",
       "0  WOWID0001  Standard Class     Consumer       Seattle    Washington   \n",
       "1  WOWID0002  Standard Class  Home Office    Fort Worth         Texas   \n",
       "2  WOWID0003  Standard Class  Home Office    Fort Worth         Texas   \n",
       "3  WOWID0004  Standard Class     Consumer  Philadelphia  Pennsylvania   \n",
       "4  WOWID0005  Standard Class     Consumer  Philadelphia  Pennsylvania   \n",
       "\n",
       "    Region         Category Sub-Category     Sales  Quantity  Discount  \\\n",
       "0     West  Office Supplies      Binders   407.976         3       0.2   \n",
       "1  Central  Office Supplies   Appliances    68.810         5       0.8   \n",
       "2  Central  Office Supplies      Binders     2.544         3       0.8   \n",
       "3     East        Furniture    Bookcases  3083.430         7       0.5   \n",
       "4     East  Office Supplies      Binders     9.618         2       0.7   \n",
       "\n",
       "      Profit  \n",
       "0   132.5922  \n",
       "1  -123.8580  \n",
       "2    -3.8160  \n",
       "3 -1665.0522  \n",
       "4    -7.0532  "
      ]
     },
     "execution_count": 4,
     "metadata": {},
     "output_type": "execute_result"
    }
   ],
   "source": [
    "data.head()"
   ]
  },
  {
   "cell_type": "markdown",
   "metadata": {
    "id": "VWjlaGAm7HLm"
   },
   "source": [
    "* We can check the last 5 rows of the data using the *tail()* function."
   ]
  },
  {
   "cell_type": "code",
   "execution_count": 7,
   "metadata": {},
   "outputs": [
    {
     "data": {
      "text/html": [
       "<div>\n",
       "<style scoped>\n",
       "    .dataframe tbody tr th:only-of-type {\n",
       "        vertical-align: middle;\n",
       "    }\n",
       "\n",
       "    .dataframe tbody tr th {\n",
       "        vertical-align: top;\n",
       "    }\n",
       "\n",
       "    .dataframe thead th {\n",
       "        text-align: right;\n",
       "    }\n",
       "</style>\n",
       "<table border=\"1\" class=\"dataframe\">\n",
       "  <thead>\n",
       "    <tr style=\"text-align: right;\">\n",
       "      <th></th>\n",
       "      <th>Order ID</th>\n",
       "      <th>Ship Mode</th>\n",
       "      <th>Segment</th>\n",
       "      <th>City</th>\n",
       "      <th>State</th>\n",
       "      <th>Region</th>\n",
       "      <th>Category</th>\n",
       "      <th>Sub-Category</th>\n",
       "      <th>Sales</th>\n",
       "      <th>Quantity</th>\n",
       "      <th>Discount</th>\n",
       "      <th>Profit</th>\n",
       "    </tr>\n",
       "  </thead>\n",
       "  <tbody>\n",
       "    <tr>\n",
       "      <th>0</th>\n",
       "      <td>WOWID0001</td>\n",
       "      <td>Standard Class</td>\n",
       "      <td>Consumer</td>\n",
       "      <td>Seattle</td>\n",
       "      <td>Washington</td>\n",
       "      <td>West</td>\n",
       "      <td>Office Supplies</td>\n",
       "      <td>Binders</td>\n",
       "      <td>407.9760</td>\n",
       "      <td>3</td>\n",
       "      <td>0.20</td>\n",
       "      <td>132.5922</td>\n",
       "    </tr>\n",
       "    <tr>\n",
       "      <th>1</th>\n",
       "      <td>WOWID0002</td>\n",
       "      <td>Standard Class</td>\n",
       "      <td>Home Office</td>\n",
       "      <td>Fort Worth</td>\n",
       "      <td>Texas</td>\n",
       "      <td>Central</td>\n",
       "      <td>Office Supplies</td>\n",
       "      <td>Appliances</td>\n",
       "      <td>68.8100</td>\n",
       "      <td>5</td>\n",
       "      <td>0.80</td>\n",
       "      <td>-123.8580</td>\n",
       "    </tr>\n",
       "    <tr>\n",
       "      <th>2</th>\n",
       "      <td>WOWID0003</td>\n",
       "      <td>Standard Class</td>\n",
       "      <td>Home Office</td>\n",
       "      <td>Fort Worth</td>\n",
       "      <td>Texas</td>\n",
       "      <td>Central</td>\n",
       "      <td>Office Supplies</td>\n",
       "      <td>Binders</td>\n",
       "      <td>2.5440</td>\n",
       "      <td>3</td>\n",
       "      <td>0.80</td>\n",
       "      <td>-3.8160</td>\n",
       "    </tr>\n",
       "    <tr>\n",
       "      <th>3</th>\n",
       "      <td>WOWID0004</td>\n",
       "      <td>Standard Class</td>\n",
       "      <td>Consumer</td>\n",
       "      <td>Philadelphia</td>\n",
       "      <td>Pennsylvania</td>\n",
       "      <td>East</td>\n",
       "      <td>Furniture</td>\n",
       "      <td>Bookcases</td>\n",
       "      <td>3083.4300</td>\n",
       "      <td>7</td>\n",
       "      <td>0.50</td>\n",
       "      <td>-1665.0522</td>\n",
       "    </tr>\n",
       "    <tr>\n",
       "      <th>4</th>\n",
       "      <td>WOWID0005</td>\n",
       "      <td>Standard Class</td>\n",
       "      <td>Consumer</td>\n",
       "      <td>Philadelphia</td>\n",
       "      <td>Pennsylvania</td>\n",
       "      <td>East</td>\n",
       "      <td>Office Supplies</td>\n",
       "      <td>Binders</td>\n",
       "      <td>9.6180</td>\n",
       "      <td>2</td>\n",
       "      <td>0.70</td>\n",
       "      <td>-7.0532</td>\n",
       "    </tr>\n",
       "    <tr>\n",
       "      <th>...</th>\n",
       "      <td>...</td>\n",
       "      <td>...</td>\n",
       "      <td>...</td>\n",
       "      <td>...</td>\n",
       "      <td>...</td>\n",
       "      <td>...</td>\n",
       "      <td>...</td>\n",
       "      <td>...</td>\n",
       "      <td>...</td>\n",
       "      <td>...</td>\n",
       "      <td>...</td>\n",
       "      <td>...</td>\n",
       "    </tr>\n",
       "    <tr>\n",
       "      <th>1945</th>\n",
       "      <td>WOWID1946</td>\n",
       "      <td>Standard Class</td>\n",
       "      <td>Corporate</td>\n",
       "      <td>Philadelphia</td>\n",
       "      <td>Pennsylvania</td>\n",
       "      <td>East</td>\n",
       "      <td>Office Supplies</td>\n",
       "      <td>Paper</td>\n",
       "      <td>3.4240</td>\n",
       "      <td>1</td>\n",
       "      <td>0.20</td>\n",
       "      <td>1.0700</td>\n",
       "    </tr>\n",
       "    <tr>\n",
       "      <th>1946</th>\n",
       "      <td>WOWID1947</td>\n",
       "      <td>Standard Class</td>\n",
       "      <td>Corporate</td>\n",
       "      <td>Philadelphia</td>\n",
       "      <td>Pennsylvania</td>\n",
       "      <td>East</td>\n",
       "      <td>Technology</td>\n",
       "      <td>Accessories</td>\n",
       "      <td>151.2000</td>\n",
       "      <td>3</td>\n",
       "      <td>0.20</td>\n",
       "      <td>32.1300</td>\n",
       "    </tr>\n",
       "    <tr>\n",
       "      <th>1947</th>\n",
       "      <td>WOWID1948</td>\n",
       "      <td>First Class</td>\n",
       "      <td>Home Office</td>\n",
       "      <td>Houston</td>\n",
       "      <td>Texas</td>\n",
       "      <td>Central</td>\n",
       "      <td>Office Supplies</td>\n",
       "      <td>Paper</td>\n",
       "      <td>65.5840</td>\n",
       "      <td>2</td>\n",
       "      <td>0.20</td>\n",
       "      <td>23.7742</td>\n",
       "    </tr>\n",
       "    <tr>\n",
       "      <th>1948</th>\n",
       "      <td>WOWID1949</td>\n",
       "      <td>First Class</td>\n",
       "      <td>Home Office</td>\n",
       "      <td>Houston</td>\n",
       "      <td>Texas</td>\n",
       "      <td>Central</td>\n",
       "      <td>Furniture</td>\n",
       "      <td>Bookcases</td>\n",
       "      <td>383.4656</td>\n",
       "      <td>4</td>\n",
       "      <td>0.32</td>\n",
       "      <td>-67.6704</td>\n",
       "    </tr>\n",
       "    <tr>\n",
       "      <th>1949</th>\n",
       "      <td>WOWID1950</td>\n",
       "      <td>Standard Class</td>\n",
       "      <td>Consumer</td>\n",
       "      <td>Houston</td>\n",
       "      <td>Texas</td>\n",
       "      <td>Central</td>\n",
       "      <td>Office Supplies</td>\n",
       "      <td>Envelopes</td>\n",
       "      <td>99.5680</td>\n",
       "      <td>2</td>\n",
       "      <td>0.20</td>\n",
       "      <td>33.6042</td>\n",
       "    </tr>\n",
       "  </tbody>\n",
       "</table>\n",
       "<p>1950 rows × 12 columns</p>\n",
       "</div>"
      ],
      "text/plain": [
       "       Order ID       Ship Mode      Segment          City         State  \\\n",
       "0     WOWID0001  Standard Class     Consumer       Seattle    Washington   \n",
       "1     WOWID0002  Standard Class  Home Office    Fort Worth         Texas   \n",
       "2     WOWID0003  Standard Class  Home Office    Fort Worth         Texas   \n",
       "3     WOWID0004  Standard Class     Consumer  Philadelphia  Pennsylvania   \n",
       "4     WOWID0005  Standard Class     Consumer  Philadelphia  Pennsylvania   \n",
       "...         ...             ...          ...           ...           ...   \n",
       "1945  WOWID1946  Standard Class    Corporate  Philadelphia  Pennsylvania   \n",
       "1946  WOWID1947  Standard Class    Corporate  Philadelphia  Pennsylvania   \n",
       "1947  WOWID1948     First Class  Home Office       Houston         Texas   \n",
       "1948  WOWID1949     First Class  Home Office       Houston         Texas   \n",
       "1949  WOWID1950  Standard Class     Consumer       Houston         Texas   \n",
       "\n",
       "       Region         Category Sub-Category      Sales  Quantity  Discount  \\\n",
       "0        West  Office Supplies      Binders   407.9760         3      0.20   \n",
       "1     Central  Office Supplies   Appliances    68.8100         5      0.80   \n",
       "2     Central  Office Supplies      Binders     2.5440         3      0.80   \n",
       "3        East        Furniture    Bookcases  3083.4300         7      0.50   \n",
       "4        East  Office Supplies      Binders     9.6180         2      0.70   \n",
       "...       ...              ...          ...        ...       ...       ...   \n",
       "1945     East  Office Supplies        Paper     3.4240         1      0.20   \n",
       "1946     East       Technology  Accessories   151.2000         3      0.20   \n",
       "1947  Central  Office Supplies        Paper    65.5840         2      0.20   \n",
       "1948  Central        Furniture    Bookcases   383.4656         4      0.32   \n",
       "1949  Central  Office Supplies    Envelopes    99.5680         2      0.20   \n",
       "\n",
       "         Profit  \n",
       "0      132.5922  \n",
       "1     -123.8580  \n",
       "2       -3.8160  \n",
       "3    -1665.0522  \n",
       "4       -7.0532  \n",
       "...         ...  \n",
       "1945     1.0700  \n",
       "1946    32.1300  \n",
       "1947    23.7742  \n",
       "1948   -67.6704  \n",
       "1949    33.6042  \n",
       "\n",
       "[1950 rows x 12 columns]"
      ]
     },
     "execution_count": 7,
     "metadata": {},
     "output_type": "execute_result"
    }
   ],
   "source": [
    "data"
   ]
  },
  {
   "cell_type": "code",
   "execution_count": 5,
   "metadata": {
    "id": "OWqwiImP7HLm",
    "outputId": "07535895-a312-4282-d7ce-8c11ade89b8c",
    "scrolled": true
   },
   "outputs": [
    {
     "data": {
      "text/html": [
       "<div>\n",
       "<style scoped>\n",
       "    .dataframe tbody tr th:only-of-type {\n",
       "        vertical-align: middle;\n",
       "    }\n",
       "\n",
       "    .dataframe tbody tr th {\n",
       "        vertical-align: top;\n",
       "    }\n",
       "\n",
       "    .dataframe thead th {\n",
       "        text-align: right;\n",
       "    }\n",
       "</style>\n",
       "<table border=\"1\" class=\"dataframe\">\n",
       "  <thead>\n",
       "    <tr style=\"text-align: right;\">\n",
       "      <th></th>\n",
       "      <th>Order ID</th>\n",
       "      <th>Ship Mode</th>\n",
       "      <th>Segment</th>\n",
       "      <th>City</th>\n",
       "      <th>State</th>\n",
       "      <th>Region</th>\n",
       "      <th>Category</th>\n",
       "      <th>Sub-Category</th>\n",
       "      <th>Sales</th>\n",
       "      <th>Quantity</th>\n",
       "      <th>Discount</th>\n",
       "      <th>Profit</th>\n",
       "    </tr>\n",
       "  </thead>\n",
       "  <tbody>\n",
       "    <tr>\n",
       "      <th>1945</th>\n",
       "      <td>WOWID1946</td>\n",
       "      <td>Standard Class</td>\n",
       "      <td>Corporate</td>\n",
       "      <td>Philadelphia</td>\n",
       "      <td>Pennsylvania</td>\n",
       "      <td>East</td>\n",
       "      <td>Office Supplies</td>\n",
       "      <td>Paper</td>\n",
       "      <td>3.4240</td>\n",
       "      <td>1</td>\n",
       "      <td>0.20</td>\n",
       "      <td>1.0700</td>\n",
       "    </tr>\n",
       "    <tr>\n",
       "      <th>1946</th>\n",
       "      <td>WOWID1947</td>\n",
       "      <td>Standard Class</td>\n",
       "      <td>Corporate</td>\n",
       "      <td>Philadelphia</td>\n",
       "      <td>Pennsylvania</td>\n",
       "      <td>East</td>\n",
       "      <td>Technology</td>\n",
       "      <td>Accessories</td>\n",
       "      <td>151.2000</td>\n",
       "      <td>3</td>\n",
       "      <td>0.20</td>\n",
       "      <td>32.1300</td>\n",
       "    </tr>\n",
       "    <tr>\n",
       "      <th>1947</th>\n",
       "      <td>WOWID1948</td>\n",
       "      <td>First Class</td>\n",
       "      <td>Home Office</td>\n",
       "      <td>Houston</td>\n",
       "      <td>Texas</td>\n",
       "      <td>Central</td>\n",
       "      <td>Office Supplies</td>\n",
       "      <td>Paper</td>\n",
       "      <td>65.5840</td>\n",
       "      <td>2</td>\n",
       "      <td>0.20</td>\n",
       "      <td>23.7742</td>\n",
       "    </tr>\n",
       "    <tr>\n",
       "      <th>1948</th>\n",
       "      <td>WOWID1949</td>\n",
       "      <td>First Class</td>\n",
       "      <td>Home Office</td>\n",
       "      <td>Houston</td>\n",
       "      <td>Texas</td>\n",
       "      <td>Central</td>\n",
       "      <td>Furniture</td>\n",
       "      <td>Bookcases</td>\n",
       "      <td>383.4656</td>\n",
       "      <td>4</td>\n",
       "      <td>0.32</td>\n",
       "      <td>-67.6704</td>\n",
       "    </tr>\n",
       "    <tr>\n",
       "      <th>1949</th>\n",
       "      <td>WOWID1950</td>\n",
       "      <td>Standard Class</td>\n",
       "      <td>Consumer</td>\n",
       "      <td>Houston</td>\n",
       "      <td>Texas</td>\n",
       "      <td>Central</td>\n",
       "      <td>Office Supplies</td>\n",
       "      <td>Envelopes</td>\n",
       "      <td>99.5680</td>\n",
       "      <td>2</td>\n",
       "      <td>0.20</td>\n",
       "      <td>33.6042</td>\n",
       "    </tr>\n",
       "  </tbody>\n",
       "</table>\n",
       "</div>"
      ],
      "text/plain": [
       "       Order ID       Ship Mode      Segment          City         State  \\\n",
       "1945  WOWID1946  Standard Class    Corporate  Philadelphia  Pennsylvania   \n",
       "1946  WOWID1947  Standard Class    Corporate  Philadelphia  Pennsylvania   \n",
       "1947  WOWID1948     First Class  Home Office       Houston         Texas   \n",
       "1948  WOWID1949     First Class  Home Office       Houston         Texas   \n",
       "1949  WOWID1950  Standard Class     Consumer       Houston         Texas   \n",
       "\n",
       "       Region         Category Sub-Category     Sales  Quantity  Discount  \\\n",
       "1945     East  Office Supplies        Paper    3.4240         1      0.20   \n",
       "1946     East       Technology  Accessories  151.2000         3      0.20   \n",
       "1947  Central  Office Supplies        Paper   65.5840         2      0.20   \n",
       "1948  Central        Furniture    Bookcases  383.4656         4      0.32   \n",
       "1949  Central  Office Supplies    Envelopes   99.5680         2      0.20   \n",
       "\n",
       "       Profit  \n",
       "1945   1.0700  \n",
       "1946  32.1300  \n",
       "1947  23.7742  \n",
       "1948 -67.6704  \n",
       "1949  33.6042  "
      ]
     },
     "execution_count": 5,
     "metadata": {},
     "output_type": "execute_result"
    }
   ],
   "source": [
    "data.tail()"
   ]
  },
  {
   "cell_type": "code",
   "execution_count": 6,
   "metadata": {},
   "outputs": [
    {
     "data": {
      "text/plain": [
       "pandas.core.frame.DataFrame"
      ]
     },
     "execution_count": 6,
     "metadata": {},
     "output_type": "execute_result"
    }
   ],
   "source": [
    "type(data)"
   ]
  },
  {
   "cell_type": "markdown",
   "metadata": {
    "id": "4_s8i5fr7HLn"
   },
   "source": [
    "* We can check a **random sample** of rows of the data using the *sample()* function.\n",
    "* We will set the *n* parameter to 5 to display 5 random rows.\n",
    "* Note that **the sample rows displayed will change each time we execute the code,** since a random selection is executed."
   ]
  },
  {
   "cell_type": "code",
   "execution_count": 10,
   "metadata": {},
   "outputs": [
    {
     "data": {
      "text/html": [
       "<div>\n",
       "<style scoped>\n",
       "    .dataframe tbody tr th:only-of-type {\n",
       "        vertical-align: middle;\n",
       "    }\n",
       "\n",
       "    .dataframe tbody tr th {\n",
       "        vertical-align: top;\n",
       "    }\n",
       "\n",
       "    .dataframe thead th {\n",
       "        text-align: right;\n",
       "    }\n",
       "</style>\n",
       "<table border=\"1\" class=\"dataframe\">\n",
       "  <thead>\n",
       "    <tr style=\"text-align: right;\">\n",
       "      <th></th>\n",
       "      <th>Order ID</th>\n",
       "      <th>Ship Mode</th>\n",
       "      <th>Segment</th>\n",
       "      <th>City</th>\n",
       "      <th>State</th>\n",
       "      <th>Region</th>\n",
       "      <th>Category</th>\n",
       "      <th>Sub-Category</th>\n",
       "      <th>Sales</th>\n",
       "      <th>Quantity</th>\n",
       "      <th>Discount</th>\n",
       "      <th>Profit</th>\n",
       "    </tr>\n",
       "  </thead>\n",
       "  <tbody>\n",
       "    <tr>\n",
       "      <th>1247</th>\n",
       "      <td>WOWID1248</td>\n",
       "      <td>Standard Class</td>\n",
       "      <td>Consumer</td>\n",
       "      <td>Philadelphia</td>\n",
       "      <td>Pennsylvania</td>\n",
       "      <td>East</td>\n",
       "      <td>Office Supplies</td>\n",
       "      <td>Fasteners</td>\n",
       "      <td>5.984</td>\n",
       "      <td>2</td>\n",
       "      <td>0.2</td>\n",
       "      <td>-1.3464</td>\n",
       "    </tr>\n",
       "    <tr>\n",
       "      <th>331</th>\n",
       "      <td>WOWID0332</td>\n",
       "      <td>Standard Class</td>\n",
       "      <td>Corporate</td>\n",
       "      <td>Houston</td>\n",
       "      <td>Texas</td>\n",
       "      <td>Central</td>\n",
       "      <td>Office Supplies</td>\n",
       "      <td>Binders</td>\n",
       "      <td>6.588</td>\n",
       "      <td>3</td>\n",
       "      <td>0.8</td>\n",
       "      <td>-10.2114</td>\n",
       "    </tr>\n",
       "    <tr>\n",
       "      <th>1636</th>\n",
       "      <td>WOWID1637</td>\n",
       "      <td>First Class</td>\n",
       "      <td>Home Office</td>\n",
       "      <td>Houston</td>\n",
       "      <td>Texas</td>\n",
       "      <td>Central</td>\n",
       "      <td>Office Supplies</td>\n",
       "      <td>Binders</td>\n",
       "      <td>7.680</td>\n",
       "      <td>5</td>\n",
       "      <td>0.8</td>\n",
       "      <td>-11.5200</td>\n",
       "    </tr>\n",
       "    <tr>\n",
       "      <th>24</th>\n",
       "      <td>WOWID0025</td>\n",
       "      <td>Standard Class</td>\n",
       "      <td>Home Office</td>\n",
       "      <td>Chicago</td>\n",
       "      <td>Illinois</td>\n",
       "      <td>Central</td>\n",
       "      <td>Office Supplies</td>\n",
       "      <td>Binders</td>\n",
       "      <td>1.788</td>\n",
       "      <td>3</td>\n",
       "      <td>0.8</td>\n",
       "      <td>-3.0396</td>\n",
       "    </tr>\n",
       "    <tr>\n",
       "      <th>108</th>\n",
       "      <td>WOWID0109</td>\n",
       "      <td>Standard Class</td>\n",
       "      <td>Consumer</td>\n",
       "      <td>Philadelphia</td>\n",
       "      <td>Pennsylvania</td>\n",
       "      <td>East</td>\n",
       "      <td>Office Supplies</td>\n",
       "      <td>Art</td>\n",
       "      <td>21.168</td>\n",
       "      <td>9</td>\n",
       "      <td>0.2</td>\n",
       "      <td>2.3814</td>\n",
       "    </tr>\n",
       "    <tr>\n",
       "      <th>1432</th>\n",
       "      <td>WOWID1433</td>\n",
       "      <td>First Class</td>\n",
       "      <td>Consumer</td>\n",
       "      <td>Chicago</td>\n",
       "      <td>Illinois</td>\n",
       "      <td>Central</td>\n",
       "      <td>Office Supplies</td>\n",
       "      <td>Labels</td>\n",
       "      <td>11.520</td>\n",
       "      <td>5</td>\n",
       "      <td>0.2</td>\n",
       "      <td>4.1760</td>\n",
       "    </tr>\n",
       "    <tr>\n",
       "      <th>957</th>\n",
       "      <td>WOWID0958</td>\n",
       "      <td>Standard Class</td>\n",
       "      <td>Consumer</td>\n",
       "      <td>Houston</td>\n",
       "      <td>Texas</td>\n",
       "      <td>Central</td>\n",
       "      <td>Office Supplies</td>\n",
       "      <td>Binders</td>\n",
       "      <td>1.476</td>\n",
       "      <td>3</td>\n",
       "      <td>0.8</td>\n",
       "      <td>-2.2140</td>\n",
       "    </tr>\n",
       "    <tr>\n",
       "      <th>757</th>\n",
       "      <td>WOWID0758</td>\n",
       "      <td>Standard Class</td>\n",
       "      <td>Consumer</td>\n",
       "      <td>Chicago</td>\n",
       "      <td>Illinois</td>\n",
       "      <td>Central</td>\n",
       "      <td>Office Supplies</td>\n",
       "      <td>Paper</td>\n",
       "      <td>25.344</td>\n",
       "      <td>6</td>\n",
       "      <td>0.2</td>\n",
       "      <td>7.9200</td>\n",
       "    </tr>\n",
       "    <tr>\n",
       "      <th>561</th>\n",
       "      <td>WOWID0562</td>\n",
       "      <td>Standard Class</td>\n",
       "      <td>Home Office</td>\n",
       "      <td>Seattle</td>\n",
       "      <td>Washington</td>\n",
       "      <td>West</td>\n",
       "      <td>Office Supplies</td>\n",
       "      <td>Paper</td>\n",
       "      <td>20.340</td>\n",
       "      <td>3</td>\n",
       "      <td>0.0</td>\n",
       "      <td>9.3564</td>\n",
       "    </tr>\n",
       "    <tr>\n",
       "      <th>1010</th>\n",
       "      <td>WOWID1011</td>\n",
       "      <td>Standard Class</td>\n",
       "      <td>Corporate</td>\n",
       "      <td>Philadelphia</td>\n",
       "      <td>Pennsylvania</td>\n",
       "      <td>East</td>\n",
       "      <td>Technology</td>\n",
       "      <td>Accessories</td>\n",
       "      <td>10.312</td>\n",
       "      <td>1</td>\n",
       "      <td>0.2</td>\n",
       "      <td>-1.2890</td>\n",
       "    </tr>\n",
       "    <tr>\n",
       "      <th>300</th>\n",
       "      <td>WOWID0301</td>\n",
       "      <td>First Class</td>\n",
       "      <td>Consumer</td>\n",
       "      <td>Allen</td>\n",
       "      <td>Texas</td>\n",
       "      <td>Central</td>\n",
       "      <td>Technology</td>\n",
       "      <td>Accessories</td>\n",
       "      <td>21.480</td>\n",
       "      <td>3</td>\n",
       "      <td>0.2</td>\n",
       "      <td>-0.2685</td>\n",
       "    </tr>\n",
       "    <tr>\n",
       "      <th>960</th>\n",
       "      <td>WOWID0961</td>\n",
       "      <td>Standard Class</td>\n",
       "      <td>Consumer</td>\n",
       "      <td>Philadelphia</td>\n",
       "      <td>Pennsylvania</td>\n",
       "      <td>East</td>\n",
       "      <td>Office Supplies</td>\n",
       "      <td>Paper</td>\n",
       "      <td>18.264</td>\n",
       "      <td>3</td>\n",
       "      <td>0.2</td>\n",
       "      <td>6.1641</td>\n",
       "    </tr>\n",
       "    <tr>\n",
       "      <th>944</th>\n",
       "      <td>WOWID0945</td>\n",
       "      <td>Standard Class</td>\n",
       "      <td>Consumer</td>\n",
       "      <td>Seattle</td>\n",
       "      <td>Washington</td>\n",
       "      <td>West</td>\n",
       "      <td>Office Supplies</td>\n",
       "      <td>Art</td>\n",
       "      <td>9.210</td>\n",
       "      <td>3</td>\n",
       "      <td>0.0</td>\n",
       "      <td>2.3025</td>\n",
       "    </tr>\n",
       "    <tr>\n",
       "      <th>1908</th>\n",
       "      <td>WOWID1909</td>\n",
       "      <td>Standard Class</td>\n",
       "      <td>Consumer</td>\n",
       "      <td>Seattle</td>\n",
       "      <td>Washington</td>\n",
       "      <td>West</td>\n",
       "      <td>Office Supplies</td>\n",
       "      <td>Binders</td>\n",
       "      <td>10.048</td>\n",
       "      <td>2</td>\n",
       "      <td>0.2</td>\n",
       "      <td>3.1400</td>\n",
       "    </tr>\n",
       "    <tr>\n",
       "      <th>193</th>\n",
       "      <td>WOWID0194</td>\n",
       "      <td>Standard Class</td>\n",
       "      <td>Home Office</td>\n",
       "      <td>Pasadena</td>\n",
       "      <td>Texas</td>\n",
       "      <td>Central</td>\n",
       "      <td>Technology</td>\n",
       "      <td>Machines</td>\n",
       "      <td>336.510</td>\n",
       "      <td>3</td>\n",
       "      <td>0.4</td>\n",
       "      <td>44.8680</td>\n",
       "    </tr>\n",
       "  </tbody>\n",
       "</table>\n",
       "</div>"
      ],
      "text/plain": [
       "       Order ID       Ship Mode      Segment          City         State  \\\n",
       "1247  WOWID1248  Standard Class     Consumer  Philadelphia  Pennsylvania   \n",
       "331   WOWID0332  Standard Class    Corporate       Houston         Texas   \n",
       "1636  WOWID1637     First Class  Home Office       Houston         Texas   \n",
       "24    WOWID0025  Standard Class  Home Office       Chicago      Illinois   \n",
       "108   WOWID0109  Standard Class     Consumer  Philadelphia  Pennsylvania   \n",
       "1432  WOWID1433     First Class     Consumer       Chicago      Illinois   \n",
       "957   WOWID0958  Standard Class     Consumer       Houston         Texas   \n",
       "757   WOWID0758  Standard Class     Consumer       Chicago      Illinois   \n",
       "561   WOWID0562  Standard Class  Home Office       Seattle    Washington   \n",
       "1010  WOWID1011  Standard Class    Corporate  Philadelphia  Pennsylvania   \n",
       "300   WOWID0301     First Class     Consumer         Allen         Texas   \n",
       "960   WOWID0961  Standard Class     Consumer  Philadelphia  Pennsylvania   \n",
       "944   WOWID0945  Standard Class     Consumer       Seattle    Washington   \n",
       "1908  WOWID1909  Standard Class     Consumer       Seattle    Washington   \n",
       "193   WOWID0194  Standard Class  Home Office      Pasadena         Texas   \n",
       "\n",
       "       Region         Category Sub-Category    Sales  Quantity  Discount  \\\n",
       "1247     East  Office Supplies    Fasteners    5.984         2       0.2   \n",
       "331   Central  Office Supplies      Binders    6.588         3       0.8   \n",
       "1636  Central  Office Supplies      Binders    7.680         5       0.8   \n",
       "24    Central  Office Supplies      Binders    1.788         3       0.8   \n",
       "108      East  Office Supplies          Art   21.168         9       0.2   \n",
       "1432  Central  Office Supplies       Labels   11.520         5       0.2   \n",
       "957   Central  Office Supplies      Binders    1.476         3       0.8   \n",
       "757   Central  Office Supplies        Paper   25.344         6       0.2   \n",
       "561      West  Office Supplies        Paper   20.340         3       0.0   \n",
       "1010     East       Technology  Accessories   10.312         1       0.2   \n",
       "300   Central       Technology  Accessories   21.480         3       0.2   \n",
       "960      East  Office Supplies        Paper   18.264         3       0.2   \n",
       "944      West  Office Supplies          Art    9.210         3       0.0   \n",
       "1908     West  Office Supplies      Binders   10.048         2       0.2   \n",
       "193   Central       Technology     Machines  336.510         3       0.4   \n",
       "\n",
       "       Profit  \n",
       "1247  -1.3464  \n",
       "331  -10.2114  \n",
       "1636 -11.5200  \n",
       "24    -3.0396  \n",
       "108    2.3814  \n",
       "1432   4.1760  \n",
       "957   -2.2140  \n",
       "757    7.9200  \n",
       "561    9.3564  \n",
       "1010  -1.2890  \n",
       "300   -0.2685  \n",
       "960    6.1641  \n",
       "944    2.3025  \n",
       "1908   3.1400  \n",
       "193   44.8680  "
      ]
     },
     "execution_count": 10,
     "metadata": {},
     "output_type": "execute_result"
    }
   ],
   "source": [
    "data.sample(n=15)"
   ]
  },
  {
   "cell_type": "code",
   "execution_count": null,
   "metadata": {
    "id": "DDB7-SR-7HLn",
    "outputId": "8e427f56-4672-417c-c862-ecf1484f1ed4"
   },
   "outputs": [
    {
     "data": {
      "text/html": [
       "<div>\n",
       "<style scoped>\n",
       "    .dataframe tbody tr th:only-of-type {\n",
       "        vertical-align: middle;\n",
       "    }\n",
       "\n",
       "    .dataframe tbody tr th {\n",
       "        vertical-align: top;\n",
       "    }\n",
       "\n",
       "    .dataframe thead th {\n",
       "        text-align: right;\n",
       "    }\n",
       "</style>\n",
       "<table border=\"1\" class=\"dataframe\">\n",
       "  <thead>\n",
       "    <tr style=\"text-align: right;\">\n",
       "      <th></th>\n",
       "      <th>Order ID</th>\n",
       "      <th>Ship Mode</th>\n",
       "      <th>Segment</th>\n",
       "      <th>City</th>\n",
       "      <th>State</th>\n",
       "      <th>Region</th>\n",
       "      <th>Category</th>\n",
       "      <th>Sub-Category</th>\n",
       "      <th>Sales</th>\n",
       "      <th>Quantity</th>\n",
       "      <th>Discount</th>\n",
       "      <th>Profit</th>\n",
       "    </tr>\n",
       "  </thead>\n",
       "  <tbody>\n",
       "    <tr>\n",
       "      <th>901</th>\n",
       "      <td>WOWID0902</td>\n",
       "      <td>Standard Class</td>\n",
       "      <td>Home Office</td>\n",
       "      <td>Seattle</td>\n",
       "      <td>Washington</td>\n",
       "      <td>West</td>\n",
       "      <td>Furniture</td>\n",
       "      <td>Furnishings</td>\n",
       "      <td>15.840</td>\n",
       "      <td>3</td>\n",
       "      <td>0.0</td>\n",
       "      <td>4.9104</td>\n",
       "    </tr>\n",
       "    <tr>\n",
       "      <th>666</th>\n",
       "      <td>WOWID0667</td>\n",
       "      <td>First Class</td>\n",
       "      <td>Corporate</td>\n",
       "      <td>Conroe</td>\n",
       "      <td>Texas</td>\n",
       "      <td>Central</td>\n",
       "      <td>Office Supplies</td>\n",
       "      <td>Storage</td>\n",
       "      <td>111.672</td>\n",
       "      <td>9</td>\n",
       "      <td>0.2</td>\n",
       "      <td>6.9795</td>\n",
       "    </tr>\n",
       "    <tr>\n",
       "      <th>850</th>\n",
       "      <td>WOWID0851</td>\n",
       "      <td>Standard Class</td>\n",
       "      <td>Corporate</td>\n",
       "      <td>Dallas</td>\n",
       "      <td>Texas</td>\n",
       "      <td>Central</td>\n",
       "      <td>Office Supplies</td>\n",
       "      <td>Paper</td>\n",
       "      <td>15.552</td>\n",
       "      <td>3</td>\n",
       "      <td>0.2</td>\n",
       "      <td>5.6376</td>\n",
       "    </tr>\n",
       "    <tr>\n",
       "      <th>1843</th>\n",
       "      <td>WOWID1844</td>\n",
       "      <td>First Class</td>\n",
       "      <td>Corporate</td>\n",
       "      <td>Houston</td>\n",
       "      <td>Texas</td>\n",
       "      <td>Central</td>\n",
       "      <td>Office Supplies</td>\n",
       "      <td>Binders</td>\n",
       "      <td>6.816</td>\n",
       "      <td>2</td>\n",
       "      <td>0.8</td>\n",
       "      <td>-11.5872</td>\n",
       "    </tr>\n",
       "    <tr>\n",
       "      <th>996</th>\n",
       "      <td>WOWID0997</td>\n",
       "      <td>First Class</td>\n",
       "      <td>Consumer</td>\n",
       "      <td>Seattle</td>\n",
       "      <td>Washington</td>\n",
       "      <td>West</td>\n",
       "      <td>Office Supplies</td>\n",
       "      <td>Storage</td>\n",
       "      <td>242.940</td>\n",
       "      <td>3</td>\n",
       "      <td>0.0</td>\n",
       "      <td>4.8588</td>\n",
       "    </tr>\n",
       "  </tbody>\n",
       "</table>\n",
       "</div>"
      ],
      "text/plain": [
       "       Order ID       Ship Mode      Segment     City       State   Region  \\\n",
       "901   WOWID0902  Standard Class  Home Office  Seattle  Washington     West   \n",
       "666   WOWID0667     First Class    Corporate   Conroe       Texas  Central   \n",
       "850   WOWID0851  Standard Class    Corporate   Dallas       Texas  Central   \n",
       "1843  WOWID1844     First Class    Corporate  Houston       Texas  Central   \n",
       "996   WOWID0997     First Class     Consumer  Seattle  Washington     West   \n",
       "\n",
       "             Category Sub-Category    Sales  Quantity  Discount   Profit  \n",
       "901         Furniture  Furnishings   15.840         3       0.0   4.9104  \n",
       "666   Office Supplies      Storage  111.672         9       0.2   6.9795  \n",
       "850   Office Supplies        Paper   15.552         3       0.2   5.6376  \n",
       "1843  Office Supplies      Binders    6.816         2       0.8 -11.5872  \n",
       "996   Office Supplies      Storage  242.940         3       0.0   4.8588  "
      ]
     },
     "execution_count": 5,
     "metadata": {
      "tags": []
     },
     "output_type": "execute_result"
    }
   ],
   "source": [
    "data.sample(n=5)"
   ]
  },
  {
   "cell_type": "markdown",
   "metadata": {
    "id": "3XEy7TTw7HLn"
   },
   "source": [
    "**What does this quick look at our data tell us?**\n",
    "\n",
    "* Two modes of shipping are visible - *Standard Class* and *First Class*.\n",
    "* Three customer segments are visible - *Consumer*, *Corporate*, and *Home Office*.\n",
    "* The customers are spread across different cities and states of the US.\n",
    "* The products ordered belong to various categories like *Office Supplies*, *Furniture*, *Technology* etc.\n",
    "* The discounts provided range from 20% to 80%.\n",
    "* The *Profit* column has negative values too, indicating losses incurred.\n",
    "\n",
    "This, of course, is true **only for this snapshot of 15 rows** that we have just seen. We have some very handy fuctions in Pandas to do a thorough summary analysis of the entire data without having to view all the rows. "
   ]
  },
  {
   "cell_type": "markdown",
   "metadata": {
    "id": "jwJlLbDv7HLo"
   },
   "source": [
    "### **Now that we have taken a quick look at our data, let's check the number of rows and columns in the data, and what type of values we are going to deal with**\n",
    "\n",
    "* The *shape* attribute and the *info()* function will help us with this."
   ]
  },
  {
   "cell_type": "code",
   "execution_count": 12,
   "metadata": {},
   "outputs": [],
   "source": [
    "?data.shape"
   ]
  },
  {
   "cell_type": "code",
   "execution_count": 11,
   "metadata": {
    "id": "okP8faGd7HLo",
    "outputId": "c4fae219-a464-40af-b3e0-3de81ea12589"
   },
   "outputs": [
    {
     "data": {
      "text/plain": [
       "(1950, 12)"
      ]
     },
     "execution_count": 11,
     "metadata": {},
     "output_type": "execute_result"
    }
   ],
   "source": [
    "# checking the shape of the data\n",
    "data.shape"
   ]
  },
  {
   "cell_type": "markdown",
   "metadata": {
    "id": "YUTO0Do_7HLo"
   },
   "source": [
    "* We see that there are 1950 rows and 12 columns in the data."
   ]
  },
  {
   "cell_type": "code",
   "execution_count": 14,
   "metadata": {
    "id": "KD4I8UWm7HLo",
    "outputId": "282a02c2-7e71-4e40-d412-8dab8dfa088f"
   },
   "outputs": [
    {
     "name": "stdout",
     "output_type": "stream",
     "text": [
      "<class 'pandas.core.frame.DataFrame'>\n",
      "RangeIndex: 1950 entries, 0 to 1949\n",
      "Data columns (total 12 columns):\n",
      " #   Column        Non-Null Count  Dtype  \n",
      "---  ------        --------------  -----  \n",
      " 0   Order ID      1950 non-null   object \n",
      " 1   Ship Mode     1950 non-null   object \n",
      " 2   Segment       1950 non-null   object \n",
      " 3   City          1950 non-null   object \n",
      " 4   State         1950 non-null   object \n",
      " 5   Region        1950 non-null   object \n",
      " 6   Category      1950 non-null   object \n",
      " 7   Sub-Category  1950 non-null   object \n",
      " 8   Sales         1950 non-null   float64\n",
      " 9   Quantity      1950 non-null   int64  \n",
      " 10  Discount      1950 non-null   float64\n",
      " 11  Profit        1950 non-null   float64\n",
      "dtypes: float64(3), int64(1), object(8)\n",
      "memory usage: 182.9+ KB\n"
     ]
    }
   ],
   "source": [
    "data.info()"
   ]
  },
  {
   "cell_type": "markdown",
   "metadata": {
    "id": "-SxUSNIZ7HLo"
   },
   "source": [
    "- There are columns of different types in the data.\n",
    "- *Sales*, *Discount*, and *Profit* are *float* type columns.\n",
    "- *Quantity* is an *int* type column.\n",
    "- The rest of the columns are of the *object* data type."
   ]
  },
  {
   "cell_type": "markdown",
   "metadata": {
    "id": "aTFuGl-r7HLp"
   },
   "source": [
    "### **We now know how many and what type of values we are going to deal with. It's time to proceed with our analysis.**\n",
    "\n",
    "#### Summary statistics are a good place to start an analysis. Pandas provides a neat statistical summary of the data through the *describe()* function. Let's take a look at it."
   ]
  },
  {
   "cell_type": "code",
   "execution_count": 15,
   "metadata": {
    "id": "ySBn0ebv7HLp",
    "outputId": "5dc7e7d9-b397-4a9b-866a-3a5214df55de"
   },
   "outputs": [
    {
     "data": {
      "text/html": [
       "<div>\n",
       "<style scoped>\n",
       "    .dataframe tbody tr th:only-of-type {\n",
       "        vertical-align: middle;\n",
       "    }\n",
       "\n",
       "    .dataframe tbody tr th {\n",
       "        vertical-align: top;\n",
       "    }\n",
       "\n",
       "    .dataframe thead th {\n",
       "        text-align: right;\n",
       "    }\n",
       "</style>\n",
       "<table border=\"1\" class=\"dataframe\">\n",
       "  <thead>\n",
       "    <tr style=\"text-align: right;\">\n",
       "      <th></th>\n",
       "      <th>Sales</th>\n",
       "      <th>Quantity</th>\n",
       "      <th>Discount</th>\n",
       "      <th>Profit</th>\n",
       "    </tr>\n",
       "  </thead>\n",
       "  <tbody>\n",
       "    <tr>\n",
       "      <th>count</th>\n",
       "      <td>1950.000000</td>\n",
       "      <td>1950.000000</td>\n",
       "      <td>1950.000000</td>\n",
       "      <td>1950.000000</td>\n",
       "    </tr>\n",
       "    <tr>\n",
       "      <th>mean</th>\n",
       "      <td>192.301891</td>\n",
       "      <td>3.746154</td>\n",
       "      <td>0.311046</td>\n",
       "      <td>-8.701654</td>\n",
       "    </tr>\n",
       "    <tr>\n",
       "      <th>std</th>\n",
       "      <td>541.179175</td>\n",
       "      <td>2.144994</td>\n",
       "      <td>0.244929</td>\n",
       "      <td>236.981216</td>\n",
       "    </tr>\n",
       "    <tr>\n",
       "      <th>min</th>\n",
       "      <td>0.444000</td>\n",
       "      <td>1.000000</td>\n",
       "      <td>0.000000</td>\n",
       "      <td>-3701.892800</td>\n",
       "    </tr>\n",
       "    <tr>\n",
       "      <th>25%</th>\n",
       "      <td>12.624000</td>\n",
       "      <td>2.000000</td>\n",
       "      <td>0.200000</td>\n",
       "      <td>-12.434725</td>\n",
       "    </tr>\n",
       "    <tr>\n",
       "      <th>50%</th>\n",
       "      <td>41.424000</td>\n",
       "      <td>3.000000</td>\n",
       "      <td>0.200000</td>\n",
       "      <td>1.823600</td>\n",
       "    </tr>\n",
       "    <tr>\n",
       "      <th>75%</th>\n",
       "      <td>173.304000</td>\n",
       "      <td>5.000000</td>\n",
       "      <td>0.400000</td>\n",
       "      <td>10.258850</td>\n",
       "    </tr>\n",
       "    <tr>\n",
       "      <th>max</th>\n",
       "      <td>13999.960000</td>\n",
       "      <td>14.000000</td>\n",
       "      <td>0.800000</td>\n",
       "      <td>6719.980800</td>\n",
       "    </tr>\n",
       "  </tbody>\n",
       "</table>\n",
       "</div>"
      ],
      "text/plain": [
       "              Sales     Quantity     Discount       Profit\n",
       "count   1950.000000  1950.000000  1950.000000  1950.000000\n",
       "mean     192.301891     3.746154     0.311046    -8.701654\n",
       "std      541.179175     2.144994     0.244929   236.981216\n",
       "min        0.444000     1.000000     0.000000 -3701.892800\n",
       "25%       12.624000     2.000000     0.200000   -12.434725\n",
       "50%       41.424000     3.000000     0.200000     1.823600\n",
       "75%      173.304000     5.000000     0.400000    10.258850\n",
       "max    13999.960000    14.000000     0.800000  6719.980800"
      ]
     },
     "execution_count": 15,
     "metadata": {},
     "output_type": "execute_result"
    }
   ],
   "source": [
    "data.describe()"
   ]
  },
  {
   "cell_type": "markdown",
   "metadata": {
    "id": "tQTczVvm7HLp"
   },
   "source": [
    "- The sale amount of products varies from 0.44 to ~14000 dollars.\n",
    "- The order quantity varies from 1 to 14 units.\n",
    "- The discount on products varies from 0 to 80%.\n",
    "- The *Profit* column has negative values, indicating losses incurred."
   ]
  },
  {
   "cell_type": "markdown",
   "metadata": {
    "id": "axHv_NYg7HLq"
   },
   "source": [
    "# <font color='blue'>Question:</font>\n",
    "\n",
    "### What is the average discount offered across all orders?\n",
    "\n",
    "1. Approx. 31%\n",
    "2. Approx. 24.5%\n",
    "3. Approx. 20%\n",
    "4. Approx. 80%"
   ]
  },
  {
   "cell_type": "markdown",
   "metadata": {
    "id": "bqxnUAmN7HLp"
   },
   "source": [
    "* The above summary shows only the numerical columns.\n",
    "* Can we include the non-numerical columns too? - YES! Let's set the *include* parameter of the *describe()* function to *'all'*.\n",
    "* We will also transpose the data using the *T* attribute to make it easier to view the whole summary at once."
   ]
  },
  {
   "cell_type": "code",
   "execution_count": 17,
   "metadata": {},
   "outputs": [
    {
     "data": {
      "text/html": [
       "<div>\n",
       "<style scoped>\n",
       "    .dataframe tbody tr th:only-of-type {\n",
       "        vertical-align: middle;\n",
       "    }\n",
       "\n",
       "    .dataframe tbody tr th {\n",
       "        vertical-align: top;\n",
       "    }\n",
       "\n",
       "    .dataframe thead th {\n",
       "        text-align: right;\n",
       "    }\n",
       "</style>\n",
       "<table border=\"1\" class=\"dataframe\">\n",
       "  <thead>\n",
       "    <tr style=\"text-align: right;\">\n",
       "      <th></th>\n",
       "      <th>Order ID</th>\n",
       "      <th>Ship Mode</th>\n",
       "      <th>Segment</th>\n",
       "      <th>City</th>\n",
       "      <th>State</th>\n",
       "      <th>Region</th>\n",
       "      <th>Category</th>\n",
       "      <th>Sub-Category</th>\n",
       "      <th>Sales</th>\n",
       "      <th>Quantity</th>\n",
       "      <th>Discount</th>\n",
       "      <th>Profit</th>\n",
       "    </tr>\n",
       "  </thead>\n",
       "  <tbody>\n",
       "    <tr>\n",
       "      <th>count</th>\n",
       "      <td>1950</td>\n",
       "      <td>1950</td>\n",
       "      <td>1950</td>\n",
       "      <td>1950</td>\n",
       "      <td>1950</td>\n",
       "      <td>1950</td>\n",
       "      <td>1950</td>\n",
       "      <td>1950</td>\n",
       "      <td>1950.000000</td>\n",
       "      <td>1950.000000</td>\n",
       "      <td>1950.000000</td>\n",
       "      <td>1950.000000</td>\n",
       "    </tr>\n",
       "    <tr>\n",
       "      <th>unique</th>\n",
       "      <td>1950</td>\n",
       "      <td>2</td>\n",
       "      <td>3</td>\n",
       "      <td>105</td>\n",
       "      <td>4</td>\n",
       "      <td>3</td>\n",
       "      <td>3</td>\n",
       "      <td>17</td>\n",
       "      <td>NaN</td>\n",
       "      <td>NaN</td>\n",
       "      <td>NaN</td>\n",
       "      <td>NaN</td>\n",
       "    </tr>\n",
       "    <tr>\n",
       "      <th>top</th>\n",
       "      <td>WOWID0698</td>\n",
       "      <td>Standard Class</td>\n",
       "      <td>Consumer</td>\n",
       "      <td>Philadelphia</td>\n",
       "      <td>Texas</td>\n",
       "      <td>Central</td>\n",
       "      <td>Office Supplies</td>\n",
       "      <td>Binders</td>\n",
       "      <td>NaN</td>\n",
       "      <td>NaN</td>\n",
       "      <td>NaN</td>\n",
       "      <td>NaN</td>\n",
       "    </tr>\n",
       "    <tr>\n",
       "      <th>freq</th>\n",
       "      <td>1</td>\n",
       "      <td>1562</td>\n",
       "      <td>1023</td>\n",
       "      <td>437</td>\n",
       "      <td>746</td>\n",
       "      <td>1108</td>\n",
       "      <td>1200</td>\n",
       "      <td>342</td>\n",
       "      <td>NaN</td>\n",
       "      <td>NaN</td>\n",
       "      <td>NaN</td>\n",
       "      <td>NaN</td>\n",
       "    </tr>\n",
       "    <tr>\n",
       "      <th>mean</th>\n",
       "      <td>NaN</td>\n",
       "      <td>NaN</td>\n",
       "      <td>NaN</td>\n",
       "      <td>NaN</td>\n",
       "      <td>NaN</td>\n",
       "      <td>NaN</td>\n",
       "      <td>NaN</td>\n",
       "      <td>NaN</td>\n",
       "      <td>192.301891</td>\n",
       "      <td>3.746154</td>\n",
       "      <td>0.311046</td>\n",
       "      <td>-8.701654</td>\n",
       "    </tr>\n",
       "    <tr>\n",
       "      <th>std</th>\n",
       "      <td>NaN</td>\n",
       "      <td>NaN</td>\n",
       "      <td>NaN</td>\n",
       "      <td>NaN</td>\n",
       "      <td>NaN</td>\n",
       "      <td>NaN</td>\n",
       "      <td>NaN</td>\n",
       "      <td>NaN</td>\n",
       "      <td>541.179175</td>\n",
       "      <td>2.144994</td>\n",
       "      <td>0.244929</td>\n",
       "      <td>236.981216</td>\n",
       "    </tr>\n",
       "    <tr>\n",
       "      <th>min</th>\n",
       "      <td>NaN</td>\n",
       "      <td>NaN</td>\n",
       "      <td>NaN</td>\n",
       "      <td>NaN</td>\n",
       "      <td>NaN</td>\n",
       "      <td>NaN</td>\n",
       "      <td>NaN</td>\n",
       "      <td>NaN</td>\n",
       "      <td>0.444000</td>\n",
       "      <td>1.000000</td>\n",
       "      <td>0.000000</td>\n",
       "      <td>-3701.892800</td>\n",
       "    </tr>\n",
       "    <tr>\n",
       "      <th>25%</th>\n",
       "      <td>NaN</td>\n",
       "      <td>NaN</td>\n",
       "      <td>NaN</td>\n",
       "      <td>NaN</td>\n",
       "      <td>NaN</td>\n",
       "      <td>NaN</td>\n",
       "      <td>NaN</td>\n",
       "      <td>NaN</td>\n",
       "      <td>12.624000</td>\n",
       "      <td>2.000000</td>\n",
       "      <td>0.200000</td>\n",
       "      <td>-12.434725</td>\n",
       "    </tr>\n",
       "    <tr>\n",
       "      <th>50%</th>\n",
       "      <td>NaN</td>\n",
       "      <td>NaN</td>\n",
       "      <td>NaN</td>\n",
       "      <td>NaN</td>\n",
       "      <td>NaN</td>\n",
       "      <td>NaN</td>\n",
       "      <td>NaN</td>\n",
       "      <td>NaN</td>\n",
       "      <td>41.424000</td>\n",
       "      <td>3.000000</td>\n",
       "      <td>0.200000</td>\n",
       "      <td>1.823600</td>\n",
       "    </tr>\n",
       "    <tr>\n",
       "      <th>75%</th>\n",
       "      <td>NaN</td>\n",
       "      <td>NaN</td>\n",
       "      <td>NaN</td>\n",
       "      <td>NaN</td>\n",
       "      <td>NaN</td>\n",
       "      <td>NaN</td>\n",
       "      <td>NaN</td>\n",
       "      <td>NaN</td>\n",
       "      <td>173.304000</td>\n",
       "      <td>5.000000</td>\n",
       "      <td>0.400000</td>\n",
       "      <td>10.258850</td>\n",
       "    </tr>\n",
       "    <tr>\n",
       "      <th>max</th>\n",
       "      <td>NaN</td>\n",
       "      <td>NaN</td>\n",
       "      <td>NaN</td>\n",
       "      <td>NaN</td>\n",
       "      <td>NaN</td>\n",
       "      <td>NaN</td>\n",
       "      <td>NaN</td>\n",
       "      <td>NaN</td>\n",
       "      <td>13999.960000</td>\n",
       "      <td>14.000000</td>\n",
       "      <td>0.800000</td>\n",
       "      <td>6719.980800</td>\n",
       "    </tr>\n",
       "  </tbody>\n",
       "</table>\n",
       "</div>"
      ],
      "text/plain": [
       "         Order ID       Ship Mode   Segment          City  State   Region  \\\n",
       "count        1950            1950      1950          1950   1950     1950   \n",
       "unique       1950               2         3           105      4        3   \n",
       "top     WOWID0698  Standard Class  Consumer  Philadelphia  Texas  Central   \n",
       "freq            1            1562      1023           437    746     1108   \n",
       "mean          NaN             NaN       NaN           NaN    NaN      NaN   \n",
       "std           NaN             NaN       NaN           NaN    NaN      NaN   \n",
       "min           NaN             NaN       NaN           NaN    NaN      NaN   \n",
       "25%           NaN             NaN       NaN           NaN    NaN      NaN   \n",
       "50%           NaN             NaN       NaN           NaN    NaN      NaN   \n",
       "75%           NaN             NaN       NaN           NaN    NaN      NaN   \n",
       "max           NaN             NaN       NaN           NaN    NaN      NaN   \n",
       "\n",
       "               Category Sub-Category         Sales     Quantity     Discount  \\\n",
       "count              1950         1950   1950.000000  1950.000000  1950.000000   \n",
       "unique                3           17           NaN          NaN          NaN   \n",
       "top     Office Supplies      Binders           NaN          NaN          NaN   \n",
       "freq               1200          342           NaN          NaN          NaN   \n",
       "mean                NaN          NaN    192.301891     3.746154     0.311046   \n",
       "std                 NaN          NaN    541.179175     2.144994     0.244929   \n",
       "min                 NaN          NaN      0.444000     1.000000     0.000000   \n",
       "25%                 NaN          NaN     12.624000     2.000000     0.200000   \n",
       "50%                 NaN          NaN     41.424000     3.000000     0.200000   \n",
       "75%                 NaN          NaN    173.304000     5.000000     0.400000   \n",
       "max                 NaN          NaN  13999.960000    14.000000     0.800000   \n",
       "\n",
       "             Profit  \n",
       "count   1950.000000  \n",
       "unique          NaN  \n",
       "top             NaN  \n",
       "freq            NaN  \n",
       "mean      -8.701654  \n",
       "std      236.981216  \n",
       "min    -3701.892800  \n",
       "25%      -12.434725  \n",
       "50%        1.823600  \n",
       "75%       10.258850  \n",
       "max     6719.980800  "
      ]
     },
     "execution_count": 17,
     "metadata": {},
     "output_type": "execute_result"
    }
   ],
   "source": [
    "data.describe(include='all')"
   ]
  },
  {
   "cell_type": "code",
   "execution_count": 16,
   "metadata": {
    "id": "_dv1-4zL7HLp",
    "outputId": "db1c2ba0-d093-4995-add7-98864b6ab30d"
   },
   "outputs": [
    {
     "data": {
      "text/html": [
       "<div>\n",
       "<style scoped>\n",
       "    .dataframe tbody tr th:only-of-type {\n",
       "        vertical-align: middle;\n",
       "    }\n",
       "\n",
       "    .dataframe tbody tr th {\n",
       "        vertical-align: top;\n",
       "    }\n",
       "\n",
       "    .dataframe thead th {\n",
       "        text-align: right;\n",
       "    }\n",
       "</style>\n",
       "<table border=\"1\" class=\"dataframe\">\n",
       "  <thead>\n",
       "    <tr style=\"text-align: right;\">\n",
       "      <th></th>\n",
       "      <th>count</th>\n",
       "      <th>unique</th>\n",
       "      <th>top</th>\n",
       "      <th>freq</th>\n",
       "      <th>mean</th>\n",
       "      <th>std</th>\n",
       "      <th>min</th>\n",
       "      <th>25%</th>\n",
       "      <th>50%</th>\n",
       "      <th>75%</th>\n",
       "      <th>max</th>\n",
       "    </tr>\n",
       "  </thead>\n",
       "  <tbody>\n",
       "    <tr>\n",
       "      <th>Order ID</th>\n",
       "      <td>1950</td>\n",
       "      <td>1950</td>\n",
       "      <td>WOWID0698</td>\n",
       "      <td>1</td>\n",
       "      <td>NaN</td>\n",
       "      <td>NaN</td>\n",
       "      <td>NaN</td>\n",
       "      <td>NaN</td>\n",
       "      <td>NaN</td>\n",
       "      <td>NaN</td>\n",
       "      <td>NaN</td>\n",
       "    </tr>\n",
       "    <tr>\n",
       "      <th>Ship Mode</th>\n",
       "      <td>1950</td>\n",
       "      <td>2</td>\n",
       "      <td>Standard Class</td>\n",
       "      <td>1562</td>\n",
       "      <td>NaN</td>\n",
       "      <td>NaN</td>\n",
       "      <td>NaN</td>\n",
       "      <td>NaN</td>\n",
       "      <td>NaN</td>\n",
       "      <td>NaN</td>\n",
       "      <td>NaN</td>\n",
       "    </tr>\n",
       "    <tr>\n",
       "      <th>Segment</th>\n",
       "      <td>1950</td>\n",
       "      <td>3</td>\n",
       "      <td>Consumer</td>\n",
       "      <td>1023</td>\n",
       "      <td>NaN</td>\n",
       "      <td>NaN</td>\n",
       "      <td>NaN</td>\n",
       "      <td>NaN</td>\n",
       "      <td>NaN</td>\n",
       "      <td>NaN</td>\n",
       "      <td>NaN</td>\n",
       "    </tr>\n",
       "    <tr>\n",
       "      <th>City</th>\n",
       "      <td>1950</td>\n",
       "      <td>105</td>\n",
       "      <td>Philadelphia</td>\n",
       "      <td>437</td>\n",
       "      <td>NaN</td>\n",
       "      <td>NaN</td>\n",
       "      <td>NaN</td>\n",
       "      <td>NaN</td>\n",
       "      <td>NaN</td>\n",
       "      <td>NaN</td>\n",
       "      <td>NaN</td>\n",
       "    </tr>\n",
       "    <tr>\n",
       "      <th>State</th>\n",
       "      <td>1950</td>\n",
       "      <td>4</td>\n",
       "      <td>Texas</td>\n",
       "      <td>746</td>\n",
       "      <td>NaN</td>\n",
       "      <td>NaN</td>\n",
       "      <td>NaN</td>\n",
       "      <td>NaN</td>\n",
       "      <td>NaN</td>\n",
       "      <td>NaN</td>\n",
       "      <td>NaN</td>\n",
       "    </tr>\n",
       "    <tr>\n",
       "      <th>Region</th>\n",
       "      <td>1950</td>\n",
       "      <td>3</td>\n",
       "      <td>Central</td>\n",
       "      <td>1108</td>\n",
       "      <td>NaN</td>\n",
       "      <td>NaN</td>\n",
       "      <td>NaN</td>\n",
       "      <td>NaN</td>\n",
       "      <td>NaN</td>\n",
       "      <td>NaN</td>\n",
       "      <td>NaN</td>\n",
       "    </tr>\n",
       "    <tr>\n",
       "      <th>Category</th>\n",
       "      <td>1950</td>\n",
       "      <td>3</td>\n",
       "      <td>Office Supplies</td>\n",
       "      <td>1200</td>\n",
       "      <td>NaN</td>\n",
       "      <td>NaN</td>\n",
       "      <td>NaN</td>\n",
       "      <td>NaN</td>\n",
       "      <td>NaN</td>\n",
       "      <td>NaN</td>\n",
       "      <td>NaN</td>\n",
       "    </tr>\n",
       "    <tr>\n",
       "      <th>Sub-Category</th>\n",
       "      <td>1950</td>\n",
       "      <td>17</td>\n",
       "      <td>Binders</td>\n",
       "      <td>342</td>\n",
       "      <td>NaN</td>\n",
       "      <td>NaN</td>\n",
       "      <td>NaN</td>\n",
       "      <td>NaN</td>\n",
       "      <td>NaN</td>\n",
       "      <td>NaN</td>\n",
       "      <td>NaN</td>\n",
       "    </tr>\n",
       "    <tr>\n",
       "      <th>Sales</th>\n",
       "      <td>1950.0</td>\n",
       "      <td>NaN</td>\n",
       "      <td>NaN</td>\n",
       "      <td>NaN</td>\n",
       "      <td>192.301891</td>\n",
       "      <td>541.179175</td>\n",
       "      <td>0.444</td>\n",
       "      <td>12.624</td>\n",
       "      <td>41.424</td>\n",
       "      <td>173.304</td>\n",
       "      <td>13999.96</td>\n",
       "    </tr>\n",
       "    <tr>\n",
       "      <th>Quantity</th>\n",
       "      <td>1950.0</td>\n",
       "      <td>NaN</td>\n",
       "      <td>NaN</td>\n",
       "      <td>NaN</td>\n",
       "      <td>3.746154</td>\n",
       "      <td>2.144994</td>\n",
       "      <td>1.0</td>\n",
       "      <td>2.0</td>\n",
       "      <td>3.0</td>\n",
       "      <td>5.0</td>\n",
       "      <td>14.0</td>\n",
       "    </tr>\n",
       "    <tr>\n",
       "      <th>Discount</th>\n",
       "      <td>1950.0</td>\n",
       "      <td>NaN</td>\n",
       "      <td>NaN</td>\n",
       "      <td>NaN</td>\n",
       "      <td>0.311046</td>\n",
       "      <td>0.244929</td>\n",
       "      <td>0.0</td>\n",
       "      <td>0.2</td>\n",
       "      <td>0.2</td>\n",
       "      <td>0.4</td>\n",
       "      <td>0.8</td>\n",
       "    </tr>\n",
       "    <tr>\n",
       "      <th>Profit</th>\n",
       "      <td>1950.0</td>\n",
       "      <td>NaN</td>\n",
       "      <td>NaN</td>\n",
       "      <td>NaN</td>\n",
       "      <td>-8.701654</td>\n",
       "      <td>236.981216</td>\n",
       "      <td>-3701.8928</td>\n",
       "      <td>-12.434725</td>\n",
       "      <td>1.8236</td>\n",
       "      <td>10.25885</td>\n",
       "      <td>6719.9808</td>\n",
       "    </tr>\n",
       "  </tbody>\n",
       "</table>\n",
       "</div>"
      ],
      "text/plain": [
       "               count unique              top  freq        mean         std  \\\n",
       "Order ID        1950   1950        WOWID0698     1         NaN         NaN   \n",
       "Ship Mode       1950      2   Standard Class  1562         NaN         NaN   \n",
       "Segment         1950      3         Consumer  1023         NaN         NaN   \n",
       "City            1950    105     Philadelphia   437         NaN         NaN   \n",
       "State           1950      4            Texas   746         NaN         NaN   \n",
       "Region          1950      3          Central  1108         NaN         NaN   \n",
       "Category        1950      3  Office Supplies  1200         NaN         NaN   \n",
       "Sub-Category    1950     17          Binders   342         NaN         NaN   \n",
       "Sales         1950.0    NaN              NaN   NaN  192.301891  541.179175   \n",
       "Quantity      1950.0    NaN              NaN   NaN    3.746154    2.144994   \n",
       "Discount      1950.0    NaN              NaN   NaN    0.311046    0.244929   \n",
       "Profit        1950.0    NaN              NaN   NaN   -8.701654  236.981216   \n",
       "\n",
       "                    min        25%     50%       75%        max  \n",
       "Order ID            NaN        NaN     NaN       NaN        NaN  \n",
       "Ship Mode           NaN        NaN     NaN       NaN        NaN  \n",
       "Segment             NaN        NaN     NaN       NaN        NaN  \n",
       "City                NaN        NaN     NaN       NaN        NaN  \n",
       "State               NaN        NaN     NaN       NaN        NaN  \n",
       "Region              NaN        NaN     NaN       NaN        NaN  \n",
       "Category            NaN        NaN     NaN       NaN        NaN  \n",
       "Sub-Category        NaN        NaN     NaN       NaN        NaN  \n",
       "Sales             0.444     12.624  41.424   173.304   13999.96  \n",
       "Quantity            1.0        2.0     3.0       5.0       14.0  \n",
       "Discount            0.0        0.2     0.2       0.4        0.8  \n",
       "Profit       -3701.8928 -12.434725  1.8236  10.25885  6719.9808  "
      ]
     },
     "execution_count": 16,
     "metadata": {},
     "output_type": "execute_result"
    }
   ],
   "source": [
    "data.describe(include=\"all\").T"
   ]
  },
  {
   "cell_type": "markdown",
   "metadata": {
    "id": "PzcBF9I67HLq"
   },
   "source": [
    "- There are two shipment modes, '*Standard Class*' being the more frequent one.\n",
    "- Orders were shipped across 3 regions, 4 states, and 105 cities. '*Philadelphia*' was the most frequent city for shipping.\n",
    "- The products are spread across 3 categories and 17 sub-categories."
   ]
  },
  {
   "cell_type": "markdown",
   "metadata": {
    "id": "XY1KLeQaceCp"
   },
   "source": [
    "# <font color='blue'>Question:</font>\n",
    "\n",
    "### How many distinct segments of customers are present in the data?\n",
    "\n",
    "1. 2\n",
    "2. 3\n",
    "3. 4\n",
    "4. 5"
   ]
  },
  {
   "cell_type": "markdown",
   "metadata": {
    "id": "9YYoYGu47HLq"
   },
   "source": [
    "### **The statistical summary was really helpful. The next step would be to analyze some of the columns individually to see if we can gain more insights.**\n",
    "\n",
    "### **We will begin with the categorical variables in the data.**"
   ]
  },
  {
   "cell_type": "markdown",
   "metadata": {
    "id": "2YCb_ekq7HLq"
   },
   "source": [
    "* Let's check the unique value in the *Category* column.\n",
    "* The Pandas *unique()* function will help us here."
   ]
  },
  {
   "cell_type": "code",
   "execution_count": 21,
   "metadata": {},
   "outputs": [
    {
     "data": {
      "text/plain": [
       "0       0.20\n",
       "1       0.80\n",
       "2       0.80\n",
       "3       0.50\n",
       "4       0.70\n",
       "        ... \n",
       "1945    0.20\n",
       "1946    0.20\n",
       "1947    0.20\n",
       "1948    0.32\n",
       "1949    0.20\n",
       "Name: Discount, Length: 1950, dtype: float64"
      ]
     },
     "execution_count": 21,
     "metadata": {},
     "output_type": "execute_result"
    }
   ],
   "source": [
    "data[\"Discount\"]"
   ]
  },
  {
   "cell_type": "code",
   "execution_count": 18,
   "metadata": {
    "id": "J3iw78W37HLq",
    "outputId": "88446b45-4705-46af-a133-57019e592046"
   },
   "outputs": [
    {
     "data": {
      "text/plain": [
       "array(['Office Supplies', 'Furniture', 'Technology'], dtype=object)"
      ]
     },
     "execution_count": 18,
     "metadata": {},
     "output_type": "execute_result"
    }
   ],
   "source": [
    "data[\"Category\"].unique()"
   ]
  },
  {
   "cell_type": "markdown",
   "metadata": {
    "id": "mRSWmi0E7HLr"
   },
   "source": [
    "* Let's check the number of orders corresponding to each unique value in the *Category* column.\n",
    "* The *value_counts()* function in Pandas allows us to do this."
   ]
  },
  {
   "cell_type": "code",
   "execution_count": 24,
   "metadata": {},
   "outputs": [
    {
     "data": {
      "text/plain": [
       "Consumer       1023\n",
       "Corporate       588\n",
       "Home Office     339\n",
       "Name: Segment, dtype: int64"
      ]
     },
     "execution_count": 24,
     "metadata": {},
     "output_type": "execute_result"
    }
   ],
   "source": [
    "data[\"Segment\"].value_counts()"
   ]
  },
  {
   "cell_type": "code",
   "execution_count": 22,
   "metadata": {
    "id": "XVTkPcDs7HLr",
    "outputId": "87397439-791d-4c36-b359-605a65c757bf"
   },
   "outputs": [
    {
     "data": {
      "text/plain": [
       "Office Supplies    1200\n",
       "Furniture           411\n",
       "Technology          339\n",
       "Name: Category, dtype: int64"
      ]
     },
     "execution_count": 22,
     "metadata": {},
     "output_type": "execute_result"
    }
   ],
   "source": [
    "data[\"Category\"].value_counts()"
   ]
  },
  {
   "cell_type": "markdown",
   "metadata": {
    "id": "x73nZnqI7HLr"
   },
   "source": [
    "**Observations**\n",
    "\n",
    "- There are 3 categories of products.\n",
    "- Most of the orders are for products under the category *Office Supplies*."
   ]
  },
  {
   "cell_type": "markdown",
   "metadata": {
    "id": "gXWG5YnkceCr"
   },
   "source": [
    "# <font color='Blue'> Your turn to code! </font>"
   ]
  },
  {
   "cell_type": "code",
   "execution_count": 30,
   "metadata": {
    "id": "uzh3ZxYyceCr"
   },
   "outputs": [
    {
     "data": {
      "text/plain": [
       "array(['Washington', 'Texas', 'Pennsylvania', 'Illinois'], dtype=object)"
      ]
     },
     "execution_count": 30,
     "metadata": {},
     "output_type": "execute_result"
    }
   ],
   "source": [
    "### Check the number of unique values in the State column.\n",
    "data[\"State\"].unique()\n",
    "\n"
   ]
  },
  {
   "cell_type": "code",
   "execution_count": 32,
   "metadata": {
    "id": "V-rlZxa9ceCr"
   },
   "outputs": [
    {
     "data": {
      "text/plain": [
       "Texas           746\n",
       "Pennsylvania    480\n",
       "Washington      362\n",
       "Illinois        362\n",
       "Name: State, dtype: int64"
      ]
     },
     "execution_count": 32,
     "metadata": {},
     "output_type": "execute_result"
    }
   ],
   "source": [
    "### Check the number of orders corresponding to each unique value of the State column.\n",
    "data[\"State\"].value_counts()\n"
   ]
  },
  {
   "cell_type": "code",
   "execution_count": 35,
   "metadata": {},
   "outputs": [
    {
     "data": {
      "text/plain": [
       "Texas           0.382564\n",
       "Pennsylvania    0.246154\n",
       "Washington      0.185641\n",
       "Illinois        0.185641\n",
       "Name: State, dtype: float64"
      ]
     },
     "execution_count": 35,
     "metadata": {},
     "output_type": "execute_result"
    }
   ],
   "source": [
    "### Check the percentage of orders corresponding to each unique value of the State column.\n",
    "data[\"State\"].value_counts(normalize=\"True\")"
   ]
  },
  {
   "cell_type": "code",
   "execution_count": 36,
   "metadata": {},
   "outputs": [
    {
     "data": {
      "text/plain": [
       "Texas           0.382564\n",
       "Pennsylvania    0.246154\n",
       "Washington      0.185641\n",
       "Illinois        0.185641\n",
       "Name: State, dtype: float64"
      ]
     },
     "execution_count": 36,
     "metadata": {},
     "output_type": "execute_result"
    }
   ],
   "source": [
    "data[\"State\"].value_counts()/data.shape[0]"
   ]
  },
  {
   "cell_type": "markdown",
   "metadata": {
    "id": "4apCcHuvceCr"
   },
   "source": [
    "# <font color='blue'>Question:</font>\n",
    "\n",
    "### Which state were most of the orders placed from?\n",
    "\n",
    "1. Texas\n",
    "2. Pennsylvania\n",
    "3. Illinois\n",
    "4. Washington"
   ]
  },
  {
   "cell_type": "markdown",
   "metadata": {
    "id": "PMPGPFN_7HLs"
   },
   "source": [
    "### **Now let's analyze some of the numerical variables in the data.**"
   ]
  },
  {
   "cell_type": "markdown",
   "metadata": {
    "id": "PBIaLGny7HLs"
   },
   "source": [
    "* Let's check the average profit across all the orders.\n",
    "* The *mean()* function can be used for this."
   ]
  },
  {
   "cell_type": "code",
   "execution_count": 37,
   "metadata": {},
   "outputs": [
    {
     "data": {
      "text/plain": [
       "Index(['Order ID', 'Ship Mode', 'Segment', 'City', 'State', 'Region',\n",
       "       'Category', 'Sub-Category', 'Sales', 'Quantity', 'Discount', 'Profit'],\n",
       "      dtype='object')"
      ]
     },
     "execution_count": 37,
     "metadata": {},
     "output_type": "execute_result"
    }
   ],
   "source": [
    "data.columns"
   ]
  },
  {
   "cell_type": "code",
   "execution_count": 38,
   "metadata": {},
   "outputs": [
    {
     "data": {
      "text/plain": [
       "3.746153846153846"
      ]
     },
     "execution_count": 38,
     "metadata": {},
     "output_type": "execute_result"
    }
   ],
   "source": [
    "data[\"Quantity\"].mean()"
   ]
  },
  {
   "cell_type": "code",
   "execution_count": 42,
   "metadata": {},
   "outputs": [
    {
     "data": {
      "text/plain": [
       "-16968.2255"
      ]
     },
     "execution_count": 42,
     "metadata": {},
     "output_type": "execute_result"
    }
   ],
   "source": [
    "data[\"Profit\"].sum()"
   ]
  },
  {
   "cell_type": "code",
   "execution_count": 39,
   "metadata": {
    "id": "ipw7oK3u7HLs",
    "outputId": "e31dca18-bddf-445e-91e4-974caa2b1a82"
   },
   "outputs": [
    {
     "data": {
      "text/plain": [
       "-8.701654102564095"
      ]
     },
     "execution_count": 39,
     "metadata": {},
     "output_type": "execute_result"
    }
   ],
   "source": [
    "data[\"Profit\"].mean()"
   ]
  },
  {
   "cell_type": "markdown",
   "metadata": {
    "id": "N1KW6RXu7HLs"
   },
   "source": [
    "* Let's check the maximum profit across all the orders.\n",
    "* The *max()* function can be used for this."
   ]
  },
  {
   "cell_type": "code",
   "execution_count": 40,
   "metadata": {
    "id": "j9aPUnoM7HLt",
    "outputId": "d89b4ffb-e7e6-4d67-980f-8294cd2c7720"
   },
   "outputs": [
    {
     "data": {
      "text/plain": [
       "6719.9808"
      ]
     },
     "execution_count": 40,
     "metadata": {},
     "output_type": "execute_result"
    }
   ],
   "source": [
    "data[\"Profit\"].max()"
   ]
  },
  {
   "cell_type": "markdown",
   "metadata": {
    "id": "Q3x6TZ0t7HLt"
   },
   "source": [
    "* Let's check the minimum profit across all the orders.\n",
    "* The *min()* function can be used for this."
   ]
  },
  {
   "cell_type": "code",
   "execution_count": 41,
   "metadata": {
    "id": "FXCjaf8R7HLt",
    "outputId": "e08110e2-30cd-43e1-d934-ca5f51127f77"
   },
   "outputs": [
    {
     "data": {
      "text/plain": [
       "-3701.8928"
      ]
     },
     "execution_count": 41,
     "metadata": {},
     "output_type": "execute_result"
    }
   ],
   "source": [
    "data[\"Profit\"].min()"
   ]
  },
  {
   "cell_type": "markdown",
   "metadata": {
    "id": "edMzSkso7HLt"
   },
   "source": [
    "**Observations**\n",
    "\n",
    "* On an average, the orders have resulted in a loss of 8.7 dollars to the superstore.\n",
    "* The maximum profit made was ~6720 dollars, while the maximum loss incurred was ~3700 dollars."
   ]
  },
  {
   "cell_type": "markdown",
   "metadata": {
    "id": "liJiQcKz7HLt"
   },
   "source": [
    "### **That gives us an overall idea of how the superstore is performing in financial terms. Let's dig a little deeper now.**"
   ]
  },
  {
   "cell_type": "markdown",
   "metadata": {
    "id": "WW3JFiDJ7HLt"
   },
   "source": [
    "* Let's check the average profit across the different product categories and different states.\n",
    "* To do so, we will have to first group the data with respect to a particular variable and then check the average profit.\n",
    "* The *groupby()* function in Pandas will help us group the data with respect to a particular variable."
   ]
  },
  {
   "cell_type": "code",
   "execution_count": 51,
   "metadata": {},
   "outputs": [
    {
     "data": {
      "text/plain": [
       "State\n",
       "Illinois       -29.944996\n",
       "Pennsylvania   -22.256420\n",
       "Texas          -29.389154\n",
       "Washington      73.147109\n",
       "Name: Profit, dtype: float64"
      ]
     },
     "execution_count": 51,
     "metadata": {},
     "output_type": "execute_result"
    }
   ],
   "source": [
    "data.groupby(\"State\")[\"Profit\"].mean()"
   ]
  },
  {
   "cell_type": "code",
   "execution_count": null,
   "metadata": {
    "id": "LMbtZBPP7HLt",
    "outputId": "04a928f9-6ecc-4e1d-d451-f5ce4c6d7459"
   },
   "outputs": [
    {
     "data": {
      "text/plain": [
       "Category\n",
       "Furniture         -35.104347\n",
       "Office Supplies   -15.013882\n",
       "Technology         45.652861\n",
       "Name: Profit, dtype: float64"
      ]
     },
     "execution_count": 17,
     "metadata": {
      "tags": []
     },
     "output_type": "execute_result"
    }
   ],
   "source": [
    "# checking the average profit across the different product categories\n",
    "data.groupby(\"Category\")[\"Profit\"].mean()"
   ]
  },
  {
   "cell_type": "markdown",
   "metadata": {
    "id": "tQ-uiGPu7HLt"
   },
   "source": [
    "* Products under the *Furniture* category result in more losses on average, while products under the *Technology* category result in more profits on average."
   ]
  },
  {
   "cell_type": "code",
   "execution_count": 49,
   "metadata": {
    "id": "QAYeQs_37HLu",
    "outputId": "59b0657d-20d3-4784-c89d-94f8561ff561"
   },
   "outputs": [
    {
     "data": {
      "text/plain": [
       "State\n",
       "Washington      73.147109\n",
       "Pennsylvania   -22.256420\n",
       "Texas          -29.389154\n",
       "Illinois       -29.944996\n",
       "Name: Profit, dtype: float64"
      ]
     },
     "execution_count": 49,
     "metadata": {},
     "output_type": "execute_result"
    }
   ],
   "source": [
    "# checking the average profit across the different states\n",
    "data.groupby(\"State\")[\"Profit\"].mean().sort_values(ascending=False)"
   ]
  },
  {
   "cell_type": "code",
   "execution_count": 52,
   "metadata": {},
   "outputs": [
    {
     "data": {
      "text/plain": [
       "Sub-Category\n",
       "Copiers        883.823940\n",
       "Accessories     29.303364\n",
       "Envelopes       28.300480\n",
       "Paper           18.061480\n",
       "Labels          13.215577\n",
       "Art              5.158165\n",
       "Phones           4.200134\n",
       "Fasteners        3.100555\n",
       "Storage         -1.617650\n",
       "Furnishings    -16.461215\n",
       "Chairs         -28.755998\n",
       "Supplies       -35.530397\n",
       "Binders        -55.282998\n",
       "Appliances     -61.131442\n",
       "Tables         -61.397999\n",
       "Bookcases      -83.778109\n",
       "Machines      -136.147570\n",
       "Name: Profit, dtype: float64"
      ]
     },
     "execution_count": 52,
     "metadata": {},
     "output_type": "execute_result"
    }
   ],
   "source": [
    "data.groupby(\"Sub-Category\")[\"Profit\"].mean().sort_values(ascending=False)"
   ]
  },
  {
   "cell_type": "code",
   "execution_count": 57,
   "metadata": {},
   "outputs": [],
   "source": [
    "?data.groupby\n"
   ]
  },
  {
   "cell_type": "code",
   "execution_count": 62,
   "metadata": {},
   "outputs": [
    {
     "data": {
      "text/plain": [
       "Ship Mode\n",
       "First Class       14.078761\n",
       "Standard Class   -14.360298\n",
       "Name: Profit, dtype: float64"
      ]
     },
     "execution_count": 62,
     "metadata": {},
     "output_type": "execute_result"
    }
   ],
   "source": [
    "data.groupby(\"Ship Mode\")[\"Profit\"].mean()"
   ]
  },
  {
   "cell_type": "markdown",
   "metadata": {
    "id": "LpEdxl6c7HLu"
   },
   "source": [
    "* Here we also sorted the data in descending order of values using the *sort_values()* function.\n",
    "* Orders placed from the state of Washington result in more profits on average, while those placed from the state of Illinois result in more losses on average."
   ]
  },
  {
   "cell_type": "markdown",
   "metadata": {
    "id": "Nouny2ef7HLv"
   },
   "source": [
    "### **We can communicate our insights in a clearer and more visually appealing manner with visualizations instead of numbers.**"
   ]
  },
  {
   "cell_type": "markdown",
   "metadata": {
    "id": "j-M3rTMv7HLv"
   },
   "source": [
    "* Pair plots are a very informative type of visualization for numerical variables.\n",
    "* Let's see what insights we can get from it."
   ]
  },
  {
   "cell_type": "code",
   "execution_count": 61,
   "metadata": {},
   "outputs": [],
   "source": [
    "?sns.pairplot"
   ]
  },
  {
   "cell_type": "code",
   "execution_count": 65,
   "metadata": {
    "id": "JXaos86c7HLv",
    "outputId": "109ec9dd-daf6-4cf2-efd1-6ae416d8d789"
   },
   "outputs": [
    {
     "data": {
      "text/plain": [
       "<seaborn.axisgrid.PairGrid at 0x7ff09bb8a1c0>"
      ]
     },
     "execution_count": 65,
     "metadata": {},
     "output_type": "execute_result"
    },
    {
     "data": {
      "image/png": "[encoded data removed]",
      "text/plain": [
       "<Figure size 831x720 with 20 Axes>"
      ]
     },
     "metadata": {
      "needs_background": "light"
     },
     "output_type": "display_data"
    }
   ],
   "source": [
    "# list of numerical columns in the data\n",
    "numerical_columns = [\"Sales\", \"Quantity\", \"Discount\", \"Profit\"]\n",
    "\n",
    "sns.pairplot(data=data, vars=numerical_columns, diag_kind=\"kde\", hue=\"Ship Mode\")"
   ]
  },
  {
   "cell_type": "code",
   "execution_count": 69,
   "metadata": {},
   "outputs": [
    {
     "data": {
      "text/plain": [
       "Index(['Order ID', 'Ship Mode', 'Segment', 'City', 'State', 'Region',\n",
       "       'Category', 'Sub-Category', 'Sales', 'Quantity', 'Discount', 'Profit'],\n",
       "      dtype='object')"
      ]
     },
     "execution_count": 69,
     "metadata": {},
     "output_type": "execute_result"
    }
   ],
   "source": [
    "data.columns"
   ]
  },
  {
   "cell_type": "code",
   "execution_count": 104,
   "metadata": {},
   "outputs": [
    {
     "name": "stdout",
     "output_type": "stream",
     "text": [
      "54321\n"
     ]
    }
   ],
   "source": [
    "def rev(i):\n",
    "    out = 0\n",
    "    while i!=0:\n",
    "        \n",
    "        rem = i%10\n",
    "        i = i//10\n",
    "        out = (out*10)+ rem\n",
    "    print(out)\n",
    "rev(12345)\n",
    "    \n",
    "    "
   ]
  },
  {
   "cell_type": "code",
   "execution_count": 105,
   "metadata": {},
   "outputs": [
    {
     "name": "stdout",
     "output_type": "stream",
     "text": [
      "Ford\n"
     ]
    }
   ],
   "source": [
    "thisdict = {\n",
    "  \"brand\": \"Ford\",\n",
    "  \"model\": \"Mustang\",\n",
    "  \"year\": 1964\n",
    "}\n",
    "print(thisdict[\"brand\"])"
   ]
  },
  {
   "cell_type": "code",
   "execution_count": 74,
   "metadata": {},
   "outputs": [
    {
     "data": {
      "text/plain": [
       "State\n",
       "Illinois       -10840.0885\n",
       "Pennsylvania   -10683.0814\n",
       "Texas          -21924.3090\n",
       "Washington      26479.2534\n",
       "Name: Profit, dtype: float64"
      ]
     },
     "execution_count": 74,
     "metadata": {},
     "output_type": "execute_result"
    }
   ],
   "source": [
    "data.groupby(\"State\")[\"Profit\"].sum()\n"
   ]
  },
  {
   "cell_type": "code",
   "execution_count": 70,
   "metadata": {},
   "outputs": [
    {
     "data": {
      "text/plain": [
       "<seaborn.axisgrid.PairGrid at 0x7ff0c84d4c10>"
      ]
     },
     "execution_count": 70,
     "metadata": {},
     "output_type": "execute_result"
    },
    {
     "data": {
      "image/png": "[encoded data removed]",
      "text/plain": [
       "<Figure size 821.875x720 with 20 Axes>"
      ]
     },
     "metadata": {
      "needs_background": "light"
     },
     "output_type": "display_data"
    }
   ],
   "source": [
    "sns.pairplot(data=data, vars=numerical_columns, diag_kind=\"kde\", hue=\"State\")"
   ]
  },
  {
   "cell_type": "markdown",
   "metadata": {
    "id": "F8_Tr-K67HLv"
   },
   "source": [
    "* We can see that a lot of orders are clustered between a profit or loss of 1000 dollars.\n",
    "* We can see that the distribution of the variables is similar for both shipment modes, but the number of orders are more for *Standard Class* shipping.\n",
    "* We had seen that the maximum profit made was ~6720 dollars, and the above plot shows that the order was shipped under *First Class*."
   ]
  },
  {
   "cell_type": "markdown",
   "metadata": {
    "id": "1fZGUSMZ7HLv"
   },
   "source": [
    "# <font color='blue'>Question:</font>\n",
    "\n",
    "### We had seen that the maximum loss incurred was ~3700 dollars. Which shipping mode does that order correspond to?\n",
    "\n",
    "1. Standard Class\n",
    "2. First Class"
   ]
  },
  {
   "cell_type": "markdown",
   "metadata": {
    "id": "tV9Du7yF1iOa"
   },
   "source": [
    "## Summary\n",
    "**Data description**\n",
    "* The dataset has **1950 observations and 12 columns.**\n",
    "* Sales, Discount, Profit, and Quantity are numerical columns while the rest are of the object datatype.\n",
    "\n",
    "**Insights from data exploration**\n",
    "* The sale amount of products varies from 0.44 to ~14000 dollars.\n",
    "* The minimum discount offered by the Superstore is 0% while the maximum is 80%.\n",
    "* The Profit column has negative values, indicating losses incurred.\n",
    "* 'Standard Class' is the most frequent mode of shipment and 'Philadelphia' is the most frequent city for shipping.\n",
    "* The products are spread across 3 categories and 17 sub-categories.\n",
    "* The orders are spread over 4 states and most of the orders are placed from the state of Texas.\n",
    "* Products under the Furniture category result in more losses on average, while Technology products tend to result in more profits.\n",
    "* Orders placed from the state of Washington result in more profits on average, while those placed from Illinois result in more losses."
   ]
  }
 ],
 "metadata": {
  "colab": {
   "collapsed_sections": [],
   "name": "Session Notebook - Advanced.ipynb",
   "provenance": []
  },
  "kernelspec": {
   "display_name": "Python 3",
   "language": "python",
   "name": "python3"
  },
  "language_info": {
   "codemirror_mode": {
    "name": "ipython",
    "version": 3
   },
   "file_extension": ".py",
   "mimetype": "text/x-python",
   "name": "python",
   "nbconvert_exporter": "python",
   "pygments_lexer": "ipython3",
   "version": "3.8.8"
  }
 },
 "nbformat": 4,
 "nbformat_minor": 1
}
